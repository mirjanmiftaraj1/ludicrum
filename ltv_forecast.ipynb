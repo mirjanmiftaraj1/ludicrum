{
 "cells": [
  {
   "cell_type": "markdown",
   "id": "fa91c61b-529e-4ce9-9f21-8f48c02cc87c",
   "metadata": {},
   "source": [
    "<h1>Customer Lifetime Value With Probabilistic Model</h1>"
   ]
  },
  {
   "cell_type": "markdown",
   "id": "c3bf77c4-f1c9-4bd2-aa3d-c0c9ad15b110",
   "metadata": {},
   "source": [
    "<img src=\"https://mllehmdz0sx3.i.optimole.com/w:1600/h:412/q:mauto/f:best/ig:avif/https://fraudblocker.com/wp-content/uploads/2024/01/Lifetime-Value-LTV.jpg\" alt=\"Customer Lifetime Value\" width=\"1000\" height=\"1000\">"
   ]
  },
  {
   "cell_type": "markdown",
   "id": "e34dfee7-d4f3-4bc9-9706-0af178ab7205",
   "metadata": {},
   "source": [
    "### Business Problem"
   ]
  },
  {
   "cell_type": "markdown",
   "id": "1f1db2d3-00f9-437e-ac3f-93bcd3921efc",
   "metadata": {},
   "source": [
    "- An online betting company would like to know each customer lifetime value for 6 months and 12 months periods.\n",
    "- We will utilize one of the Buy Till You Die model BG/NBD for predicting deposit amounts and then used Gamma-Gamma model to predict Customer Lifetime Value for desired periods. "
   ]
  },
  {
   "cell_type": "markdown",
   "id": "c5e00ea7-fbc7-4c0f-830e-10f335306c37",
   "metadata": {},
   "source": [
    "### Importing Libraries"
   ]
  },
  {
   "cell_type": "code",
   "execution_count": 1,
   "id": "3c6932ce-2cf2-439f-9807-d261612156f9",
   "metadata": {
    "scrolled": true
   },
   "outputs": [],
   "source": [
    "# pip install lifetimes"
   ]
  },
  {
   "cell_type": "code",
   "execution_count": 2,
   "id": "1b101ad9-a2eb-4030-88bb-a50a667f340e",
   "metadata": {
    "scrolled": true
   },
   "outputs": [],
   "source": [
    "# pip install seaborn"
   ]
  },
  {
   "cell_type": "code",
   "execution_count": 3,
   "id": "c9901663-d615-4ce7-a8f8-d71ca610a610",
   "metadata": {},
   "outputs": [],
   "source": [
    "import lifetimes\n",
    "\n",
    "import pandas as pd\n",
    "import numpy as np\n",
    "import datetime as dt\n",
    "\n",
    "import matplotlib.pyplot as plt\n",
    "import seaborn as sns\n",
    "\n",
    "from lifetimes import BetaGeoFitter\n",
    "from lifetimes import GammaGammaFitter\n",
    "from sklearn.preprocessing import MinMaxScaler\n",
    "\n",
    "from lifetimes.plotting import plot_frequency_recency_matrix\n",
    "from lifetimes.plotting import plot_probability_alive_matrix\n",
    "from lifetimes.plotting import plot_period_transactions\n",
    "\n",
    "pd.set_option('display.max_rows', 500)\n",
    "pd.set_option('display.max_columns', 500)\n",
    "pd.set_option('display.width', 1000)"
   ]
  },
  {
   "cell_type": "markdown",
   "id": "803f6d21-2283-444c-b95a-432cda6bbaf8",
   "metadata": {},
   "source": [
    "### Reading Data"
   ]
  },
  {
   "cell_type": "code",
   "execution_count": 4,
   "id": "a9eac6b6-c02b-4e3c-af37-980d3555a146",
   "metadata": {},
   "outputs": [
    {
     "data": {
      "text/plain": [
       "'MIR'"
      ]
     },
     "execution_count": 4,
     "metadata": {},
     "output_type": "execute_result"
    }
   ],
   "source": [
    "query = \"\"\"\n",
    "select * from pokermem.tbl_transaction limit 100;\n",
    "select * from pokermem.tbl_moneytype limit 100;\n",
    "select distinct MTY_cDirection from pokermem.tbl_moneytype;\n",
    "select MTY_cName, count(1) from pokermem.tbl_moneytype group by MTY_cName;\n",
    "\n",
    "select\n",
    "\tcount(1),\n",
    "\tavg(transaction_cnt)\n",
    "from\n",
    "\t(\n",
    "\tselect\n",
    "\t\tplayer_id,\n",
    "\t\tday_id,\n",
    "\t\ttransaction_type,\n",
    "\t\tround(avg(amount), 2) as avg_amount,\n",
    "\t\tsum(amount) as tot_amount,\n",
    "\t\tcount(date_id) as transaction_cnt\n",
    "\tfrom\n",
    "\t\t(\n",
    "\t\tselect\n",
    "\t\t\tcase\n",
    "\t\t\t\twhen m.MTY_cDirection = 'deposit' then t.tra_ply_iID_from\n",
    "\t\t\t\telse t.tra_ply_iID_to\n",
    "\t\t\tend as player_id,\n",
    "\t\t\tdate(t.TRA_dAccounting) as day_id,\n",
    "\t\t\tt.TRA_dAccounting as date_id,\n",
    "\t\t\tm.MTY_cDirection as transaction_type,\n",
    "\t\t\tt.TRA_iAmount as amount\n",
    "\t\tfrom\n",
    "\t\t\tpokermem.tbl_transaction t\n",
    "\t\tleft join pokermem.tbl_moneytype m\n",
    "on\n",
    "\t\t\tt.TRA_MTY_iID = m.MTY_iID\n",
    "\t\twhere\n",
    "\t\t\tdate(t.TRA_dAccounting) >= '2020-01-01'\n",
    "\t\t\tand t.TRA_iAmount > 0\n",
    "\t\t\tand (m.MTY_iID between 1000 and 1999\n",
    "\t\t\t\tand m.MTY_cDirection = 'deposit'\n",
    "\t\t\t\tor m.MTY_iID between 2000 and 2999\n",
    "\t\t\t\tand m.MTY_cDirection = 'withdraw')\n",
    ") tbl\n",
    "\tgroup by\n",
    "\t\tplayer_id,\n",
    "\t\tday_id,\n",
    "\t\ttransaction_type\n",
    "\torder by\n",
    "\t\tplayer_id,\n",
    "\t\tday_id,\n",
    "\t\ttransaction_type\n",
    ") tbl2\n",
    "\"\"\"\n",
    "\n",
    "\"\"\"SDG Players Only\"\"\"\n",
    "\"\"\"MIR\"\"\"\n",
    "# test ones select p.PLY_iHousePlayer = 4 from pokermem.player as p limit 10;\n",
    "# exclude test players and house players and agent players player_type, Custodial and Non-custodial also\n"
   ]
  },
  {
   "cell_type": "code",
   "execution_count": 5,
   "id": "542cddbe-d9d5-479b-b00d-c99a134104d5",
   "metadata": {},
   "outputs": [],
   "source": [
    "new_query = \"\"\"\n",
    "with transactions as \n",
    "(\n",
    "select\n",
    "\t\tplayer_id,\n",
    "\t\tday_id,\n",
    "\t\ttransaction_type,\n",
    "\t\tround(avg(amount), 2) as avg_amount,\n",
    "\t\tsum(amount) as tot_amount,\n",
    "\t\tcount(date_id) as transaction_cnt\n",
    "from\n",
    "\t\t(\n",
    "\tselect\n",
    "\t\t\tcase\n",
    "\t\t\t\twhen m.MTY_cDirection = 'deposit' then t.tra_ply_iID_from\n",
    "\t\t\telse t.tra_ply_iID_to\n",
    "\t\tend as player_id,\n",
    "\t\t\tdate(t.TRA_dAccounting) as day_id,\n",
    "\t\t\tt.TRA_dAccounting as date_id,\n",
    "\t\t\tm.MTY_cDirection as transaction_type,\n",
    "\t\t\tt.TRA_iAmount as amount\n",
    "\tfrom\n",
    "\t\t\tpokermem.tbl_transaction t\n",
    "\tleft join pokermem.tbl_moneytype m\n",
    "        on\n",
    "\t\t\tt.TRA_MTY_iID = m.MTY_iID\n",
    "\twhere\n",
    "\t\t\tdate(t.TRA_dAccounting) >= '2000-01-01'\n",
    "\t\tand t.TRA_iAmount > 0\n",
    "\t\tand (m.MTY_iID between 1000 and 1999\n",
    "\t\t\tand m.MTY_cDirection = 'deposit'\n",
    "\t\t\tor m.MTY_iID between 2000 and 2999\n",
    "\t\t\tand m.MTY_cDirection = 'withdraw')\n",
    ") tbl\n",
    "group by\n",
    "\t\tplayer_id,\n",
    "\t\tday_id,\n",
    "\t\ttransaction_type\n",
    "order by\n",
    "\t\tplayer_id,\n",
    "\t\tday_id,\n",
    "\t\ttransaction_type\n",
    "),\n",
    "money_type as \n",
    "(\n",
    "select\n",
    "\tPLY_iID,\n",
    "\tPLY_Currency_alpha3\n",
    "from\n",
    "\tplayer\n",
    ")\n",
    "select\n",
    "\ttran.*,\n",
    "\tmt.PLY_iID,\n",
    "\tmt.PLY_Currency_alpha3,\n",
    "\tpt.name\n",
    "from\n",
    "\ttransactions tran\n",
    "left join money_type mt\n",
    "on\n",
    "\ttran.player_id = mt.PLY_iID\n",
    "left join pokermem.player p\n",
    "  on\n",
    "\ttran.player_id = p.PLY_iID\n",
    "left join pokermem.player_type pt\n",
    "  on\n",
    "\tp.PLY_iHousePlayer = pt.value\n",
    "where\n",
    "\tplayer_id is not null\n",
    "\tand pt.name not in ('Houseplayer', 'Custodial', 'Non-custodial', 'Testplayer');\n",
    "\"\"\""
   ]
  },
  {
   "cell_type": "code",
   "execution_count": 6,
   "id": "9e2a6c31-4a0a-4138-9450-6c0d0422fad3",
   "metadata": {},
   "outputs": [
    {
     "data": {
      "text/html": [
       "<div>\n",
       "<style scoped>\n",
       "    .dataframe tbody tr th:only-of-type {\n",
       "        vertical-align: middle;\n",
       "    }\n",
       "\n",
       "    .dataframe tbody tr th {\n",
       "        vertical-align: top;\n",
       "    }\n",
       "\n",
       "    .dataframe thead th {\n",
       "        text-align: right;\n",
       "    }\n",
       "</style>\n",
       "<table border=\"1\" class=\"dataframe\">\n",
       "  <thead>\n",
       "    <tr style=\"text-align: right;\">\n",
       "      <th></th>\n",
       "      <th>player_id</th>\n",
       "      <th>day_id</th>\n",
       "      <th>transaction_type</th>\n",
       "      <th>avg_amount</th>\n",
       "      <th>tot_amount</th>\n",
       "      <th>transaction_cnt</th>\n",
       "      <th>PLY_iID</th>\n",
       "      <th>PLY_Currency_alpha3</th>\n",
       "      <th>name</th>\n",
       "    </tr>\n",
       "  </thead>\n",
       "  <tbody>\n",
       "    <tr>\n",
       "      <th>0</th>\n",
       "      <td>10311</td>\n",
       "      <td>2021-10-30</td>\n",
       "      <td>deposit</td>\n",
       "      <td>1000.0</td>\n",
       "      <td>1000</td>\n",
       "      <td>1</td>\n",
       "      <td>10311</td>\n",
       "      <td>SGD</td>\n",
       "      <td>Regular</td>\n",
       "    </tr>\n",
       "    <tr>\n",
       "      <th>1</th>\n",
       "      <td>10311</td>\n",
       "      <td>2021-11-03</td>\n",
       "      <td>deposit</td>\n",
       "      <td>1000.0</td>\n",
       "      <td>2000</td>\n",
       "      <td>2</td>\n",
       "      <td>10311</td>\n",
       "      <td>SGD</td>\n",
       "      <td>Regular</td>\n",
       "    </tr>\n",
       "    <tr>\n",
       "      <th>2</th>\n",
       "      <td>10311</td>\n",
       "      <td>2021-11-05</td>\n",
       "      <td>deposit</td>\n",
       "      <td>1000.0</td>\n",
       "      <td>2000</td>\n",
       "      <td>2</td>\n",
       "      <td>10311</td>\n",
       "      <td>SGD</td>\n",
       "      <td>Regular</td>\n",
       "    </tr>\n",
       "    <tr>\n",
       "      <th>3</th>\n",
       "      <td>10311</td>\n",
       "      <td>2021-11-06</td>\n",
       "      <td>deposit</td>\n",
       "      <td>1000.0</td>\n",
       "      <td>1000</td>\n",
       "      <td>1</td>\n",
       "      <td>10311</td>\n",
       "      <td>SGD</td>\n",
       "      <td>Regular</td>\n",
       "    </tr>\n",
       "    <tr>\n",
       "      <th>4</th>\n",
       "      <td>10311</td>\n",
       "      <td>2021-11-07</td>\n",
       "      <td>deposit</td>\n",
       "      <td>1000.0</td>\n",
       "      <td>1000</td>\n",
       "      <td>1</td>\n",
       "      <td>10311</td>\n",
       "      <td>SGD</td>\n",
       "      <td>Regular</td>\n",
       "    </tr>\n",
       "  </tbody>\n",
       "</table>\n",
       "</div>"
      ],
      "text/plain": [
       "   player_id     day_id transaction_type  avg_amount  tot_amount  transaction_cnt  PLY_iID PLY_Currency_alpha3     name\n",
       "0      10311 2021-10-30          deposit      1000.0        1000                1    10311                 SGD  Regular\n",
       "1      10311 2021-11-03          deposit      1000.0        2000                2    10311                 SGD  Regular\n",
       "2      10311 2021-11-05          deposit      1000.0        2000                2    10311                 SGD  Regular\n",
       "3      10311 2021-11-06          deposit      1000.0        1000                1    10311                 SGD  Regular\n",
       "4      10311 2021-11-07          deposit      1000.0        1000                1    10311                 SGD  Regular"
      ]
     },
     "execution_count": 6,
     "metadata": {},
     "output_type": "execute_result"
    }
   ],
   "source": [
    "# data = pd.read_csv(r\"Result - 1 2025-09-09 15-20-52.csv\")\n",
    "data = pd.read_csv(r\"Result - 1 2025-09-09 15-40-59.csv\")\n",
    "\n",
    "data = data[data[\"player_id\"].notnull()]\n",
    "data[\"player_id\"] = data[\"player_id\"].astype('int64')\n",
    "data[\"day_id\"] = pd.to_datetime(data[\"day_id\"])\n",
    "\n",
    "data.head(5)"
   ]
  },
  {
   "cell_type": "code",
   "execution_count": 7,
   "id": "14d371db-b7f4-45b0-b0cb-26b377edab4e",
   "metadata": {},
   "outputs": [],
   "source": [
    "# Singaporian Currency Only\n",
    "data = data[data[\"PLY_Currency_alpha3\"]==\"SGD\"]"
   ]
  },
  {
   "cell_type": "code",
   "execution_count": 8,
   "id": "d0f39c4f-f881-4d2d-8a89-4574b4e0d09c",
   "metadata": {},
   "outputs": [
    {
     "data": {
      "text/plain": [
       "name\n",
       "Abuser               23748.0\n",
       "Agentplayer          11000.0\n",
       "Bronze               40067.0\n",
       "Bronze Variant       56557.0\n",
       "Diamond             352978.0\n",
       "Diamond Variant      13461.0\n",
       "Gold                105294.0\n",
       "Platinum            176832.0\n",
       "Platinum Variant      9167.0\n",
       "Regular              25989.0\n",
       "Regular Variant      19758.0\n",
       "Scammer             148018.0\n",
       "Silver               65062.0\n",
       "Name: avg_amount, dtype: float64"
      ]
     },
     "execution_count": 8,
     "metadata": {},
     "output_type": "execute_result"
    }
   ],
   "source": [
    "data.groupby(\"name\").avg_amount.mean().round(0)"
   ]
  },
  {
   "cell_type": "code",
   "execution_count": 9,
   "id": "2837ce67-209b-405b-b505-b8b631cebaed",
   "metadata": {
    "scrolled": true
   },
   "outputs": [
    {
     "data": {
      "text/html": [
       "<div>\n",
       "<style scoped>\n",
       "    .dataframe tbody tr th:only-of-type {\n",
       "        vertical-align: middle;\n",
       "    }\n",
       "\n",
       "    .dataframe tbody tr th {\n",
       "        vertical-align: top;\n",
       "    }\n",
       "\n",
       "    .dataframe thead th {\n",
       "        text-align: right;\n",
       "    }\n",
       "</style>\n",
       "<table border=\"1\" class=\"dataframe\">\n",
       "  <thead>\n",
       "    <tr style=\"text-align: right;\">\n",
       "      <th></th>\n",
       "      <th>player_id</th>\n",
       "      <th>day_id</th>\n",
       "      <th>transaction_type</th>\n",
       "      <th>avg_amount</th>\n",
       "      <th>tot_amount</th>\n",
       "      <th>transaction_cnt</th>\n",
       "      <th>PLY_iID</th>\n",
       "      <th>PLY_Currency_alpha3</th>\n",
       "      <th>name</th>\n",
       "    </tr>\n",
       "  </thead>\n",
       "  <tbody>\n",
       "  </tbody>\n",
       "</table>\n",
       "</div>"
      ],
      "text/plain": [
       "Empty DataFrame\n",
       "Columns: [player_id, day_id, transaction_type, avg_amount, tot_amount, transaction_cnt, PLY_iID, PLY_Currency_alpha3, name]\n",
       "Index: []"
      ]
     },
     "execution_count": 9,
     "metadata": {},
     "output_type": "execute_result"
    }
   ],
   "source": [
    "data[data[\"player_id\"]==223783]"
   ]
  },
  {
   "cell_type": "code",
   "execution_count": 10,
   "id": "6369c851-f139-4782-b04c-e9bf84bd8ff7",
   "metadata": {},
   "outputs": [],
   "source": [
    "# from matplotlib.pyplot import figure\n",
    "# figure(figsize=(8, 6), dpi=200)\n",
    "\n",
    "# data.groupby(\"day_id\").tot_amount.sum().plot()"
   ]
  },
  {
   "cell_type": "code",
   "execution_count": 94,
   "id": "9b3ea8da-21fb-4e1c-8f33-c1aa6be6fde0",
   "metadata": {},
   "outputs": [
    {
     "data": {
      "image/png": "[encoded data removed]",
      "text/plain": [
       "<Figure size 1200x800 with 1 Axes>"
      ]
     },
     "metadata": {},
     "output_type": "display_data"
    }
   ],
   "source": [
    "import matplotlib.pyplot as plt\n",
    "import matplotlib.dates as mdates\n",
    "\n",
    "import seaborn as sns\n",
    "\n",
    "# Set a nice style\n",
    "#sns.set_theme(style=\"whitegrid\")\n",
    "\n",
    "# Aggregate your data\n",
    "day_totals = data.groupby(\"day_id\")[\"tot_amount\"].sum()[-1500:]\n",
    "\n",
    "# Plot as a bar chart\n",
    "plt.figure(figsize=(12, 8))\n",
    "sns.lineplot(x=day_totals.index, y=day_totals.values)\n",
    "\n",
    "# Titles and labels\n",
    "plt.title(\"Total Amount by Day\", fontsize=16, weight=\"bold\")\n",
    "plt.xlabel(\"Day ID\", fontsize=14)\n",
    "plt.ylabel(\"Total Amount\", fontsize=14)\n",
    "\n",
    "plt.gca().xaxis.set_major_locator(mdates.DayLocator(interval=60))\n",
    "plt.gca().xaxis.set_major_formatter(mdates.DateFormatter(\"%Y-%m-%d\"))\n",
    "\n",
    "# Rotate x labels if necessary\n",
    "plt.xticks(rotation=45)\n",
    "\n",
    "# Show the plot\n",
    "plt.show()\n"
   ]
  },
  {
   "cell_type": "code",
   "execution_count": 13,
   "id": "f4fe5bc9-d11d-4659-b2fe-ee8246b20f1f",
   "metadata": {},
   "outputs": [],
   "source": [
    "data.groupby(\"day_id\").tot_amount.sum().to_clipboard()"
   ]
  },
  {
   "cell_type": "code",
   "execution_count": 14,
   "id": "81e67deb-5e97-4bef-9db8-fc80bcbe7a74",
   "metadata": {
    "scrolled": true
   },
   "outputs": [
    {
     "data": {
      "text/html": [
       "<div>\n",
       "<style scoped>\n",
       "    .dataframe tbody tr th:only-of-type {\n",
       "        vertical-align: middle;\n",
       "    }\n",
       "\n",
       "    .dataframe tbody tr th {\n",
       "        vertical-align: top;\n",
       "    }\n",
       "\n",
       "    .dataframe thead th {\n",
       "        text-align: right;\n",
       "    }\n",
       "</style>\n",
       "<table border=\"1\" class=\"dataframe\">\n",
       "  <thead>\n",
       "    <tr style=\"text-align: right;\">\n",
       "      <th></th>\n",
       "      <th>player_id</th>\n",
       "      <th>tot_amount</th>\n",
       "      <th>day_id</th>\n",
       "    </tr>\n",
       "  </thead>\n",
       "  <tbody>\n",
       "    <tr>\n",
       "      <th>6059</th>\n",
       "      <td>18195</td>\n",
       "      <td>4546304908</td>\n",
       "      <td>2044</td>\n",
       "    </tr>\n",
       "    <tr>\n",
       "      <th>4017</th>\n",
       "      <td>11519</td>\n",
       "      <td>4313235279</td>\n",
       "      <td>479</td>\n",
       "    </tr>\n",
       "    <tr>\n",
       "      <th>2945</th>\n",
       "      <td>7739</td>\n",
       "      <td>1529486600</td>\n",
       "      <td>1</td>\n",
       "    </tr>\n",
       "    <tr>\n",
       "      <th>90</th>\n",
       "      <td>306</td>\n",
       "      <td>1259971100</td>\n",
       "      <td>221</td>\n",
       "    </tr>\n",
       "    <tr>\n",
       "      <th>4803</th>\n",
       "      <td>14214</td>\n",
       "      <td>1028961414</td>\n",
       "      <td>587</td>\n",
       "    </tr>\n",
       "    <tr>\n",
       "      <th>565</th>\n",
       "      <td>2288</td>\n",
       "      <td>1016194969</td>\n",
       "      <td>506</td>\n",
       "    </tr>\n",
       "    <tr>\n",
       "      <th>8351</th>\n",
       "      <td>27483</td>\n",
       "      <td>1010266100</td>\n",
       "      <td>20</td>\n",
       "    </tr>\n",
       "    <tr>\n",
       "      <th>6506</th>\n",
       "      <td>19898</td>\n",
       "      <td>978462244</td>\n",
       "      <td>1817</td>\n",
       "    </tr>\n",
       "    <tr>\n",
       "      <th>199</th>\n",
       "      <td>452</td>\n",
       "      <td>911079272</td>\n",
       "      <td>493</td>\n",
       "    </tr>\n",
       "    <tr>\n",
       "      <th>1050</th>\n",
       "      <td>3412</td>\n",
       "      <td>884709326</td>\n",
       "      <td>81</td>\n",
       "    </tr>\n",
       "    <tr>\n",
       "      <th>21111</th>\n",
       "      <td>162535</td>\n",
       "      <td>868667472</td>\n",
       "      <td>883</td>\n",
       "    </tr>\n",
       "    <tr>\n",
       "      <th>1176</th>\n",
       "      <td>3796</td>\n",
       "      <td>785465645</td>\n",
       "      <td>486</td>\n",
       "    </tr>\n",
       "    <tr>\n",
       "      <th>21989</th>\n",
       "      <td>167815</td>\n",
       "      <td>753299206</td>\n",
       "      <td>720</td>\n",
       "    </tr>\n",
       "    <tr>\n",
       "      <th>9360</th>\n",
       "      <td>30680</td>\n",
       "      <td>720992982</td>\n",
       "      <td>1227</td>\n",
       "    </tr>\n",
       "    <tr>\n",
       "      <th>25988</th>\n",
       "      <td>204758</td>\n",
       "      <td>706073618</td>\n",
       "      <td>494</td>\n",
       "    </tr>\n",
       "    <tr>\n",
       "      <th>2070</th>\n",
       "      <td>5621</td>\n",
       "      <td>663964870</td>\n",
       "      <td>127</td>\n",
       "    </tr>\n",
       "    <tr>\n",
       "      <th>94</th>\n",
       "      <td>311</td>\n",
       "      <td>621799818</td>\n",
       "      <td>1468</td>\n",
       "    </tr>\n",
       "    <tr>\n",
       "      <th>6478</th>\n",
       "      <td>19828</td>\n",
       "      <td>600520258</td>\n",
       "      <td>976</td>\n",
       "    </tr>\n",
       "    <tr>\n",
       "      <th>27840</th>\n",
       "      <td>220782</td>\n",
       "      <td>590782276</td>\n",
       "      <td>1059</td>\n",
       "    </tr>\n",
       "    <tr>\n",
       "      <th>6220</th>\n",
       "      <td>18743</td>\n",
       "      <td>581636991</td>\n",
       "      <td>694</td>\n",
       "    </tr>\n",
       "    <tr>\n",
       "      <th>19004</th>\n",
       "      <td>156325</td>\n",
       "      <td>555679139</td>\n",
       "      <td>1051</td>\n",
       "    </tr>\n",
       "    <tr>\n",
       "      <th>29295</th>\n",
       "      <td>228427</td>\n",
       "      <td>543129386</td>\n",
       "      <td>604</td>\n",
       "    </tr>\n",
       "    <tr>\n",
       "      <th>16858</th>\n",
       "      <td>152430</td>\n",
       "      <td>535455441</td>\n",
       "      <td>425</td>\n",
       "    </tr>\n",
       "    <tr>\n",
       "      <th>22555</th>\n",
       "      <td>171533</td>\n",
       "      <td>526705759</td>\n",
       "      <td>386</td>\n",
       "    </tr>\n",
       "    <tr>\n",
       "      <th>32761</th>\n",
       "      <td>259688</td>\n",
       "      <td>507974840</td>\n",
       "      <td>445</td>\n",
       "    </tr>\n",
       "    <tr>\n",
       "      <th>8019</th>\n",
       "      <td>26332</td>\n",
       "      <td>500500000</td>\n",
       "      <td>1</td>\n",
       "    </tr>\n",
       "    <tr>\n",
       "      <th>3159</th>\n",
       "      <td>8590</td>\n",
       "      <td>493355700</td>\n",
       "      <td>801</td>\n",
       "    </tr>\n",
       "    <tr>\n",
       "      <th>20781</th>\n",
       "      <td>161171</td>\n",
       "      <td>459561798</td>\n",
       "      <td>1107</td>\n",
       "    </tr>\n",
       "    <tr>\n",
       "      <th>1739</th>\n",
       "      <td>5058</td>\n",
       "      <td>455270889</td>\n",
       "      <td>724</td>\n",
       "    </tr>\n",
       "    <tr>\n",
       "      <th>4005</th>\n",
       "      <td>11477</td>\n",
       "      <td>451753792</td>\n",
       "      <td>453</td>\n",
       "    </tr>\n",
       "    <tr>\n",
       "      <th>1940</th>\n",
       "      <td>5417</td>\n",
       "      <td>440080458</td>\n",
       "      <td>1300</td>\n",
       "    </tr>\n",
       "    <tr>\n",
       "      <th>6267</th>\n",
       "      <td>18921</td>\n",
       "      <td>426210522</td>\n",
       "      <td>745</td>\n",
       "    </tr>\n",
       "    <tr>\n",
       "      <th>23313</th>\n",
       "      <td>176343</td>\n",
       "      <td>420881719</td>\n",
       "      <td>567</td>\n",
       "    </tr>\n",
       "    <tr>\n",
       "      <th>4419</th>\n",
       "      <td>12842</td>\n",
       "      <td>409522921</td>\n",
       "      <td>712</td>\n",
       "    </tr>\n",
       "    <tr>\n",
       "      <th>3790</th>\n",
       "      <td>10628</td>\n",
       "      <td>407881167</td>\n",
       "      <td>608</td>\n",
       "    </tr>\n",
       "    <tr>\n",
       "      <th>944</th>\n",
       "      <td>3104</td>\n",
       "      <td>405385268</td>\n",
       "      <td>1061</td>\n",
       "    </tr>\n",
       "    <tr>\n",
       "      <th>37727</th>\n",
       "      <td>296828</td>\n",
       "      <td>405196857</td>\n",
       "      <td>163</td>\n",
       "    </tr>\n",
       "    <tr>\n",
       "      <th>22327</th>\n",
       "      <td>169887</td>\n",
       "      <td>400624200</td>\n",
       "      <td>480</td>\n",
       "    </tr>\n",
       "    <tr>\n",
       "      <th>7078</th>\n",
       "      <td>22068</td>\n",
       "      <td>399024911</td>\n",
       "      <td>466</td>\n",
       "    </tr>\n",
       "    <tr>\n",
       "      <th>22196</th>\n",
       "      <td>169193</td>\n",
       "      <td>396806128</td>\n",
       "      <td>1424</td>\n",
       "    </tr>\n",
       "    <tr>\n",
       "      <th>14389</th>\n",
       "      <td>147714</td>\n",
       "      <td>393751996</td>\n",
       "      <td>343</td>\n",
       "    </tr>\n",
       "    <tr>\n",
       "      <th>15265</th>\n",
       "      <td>149412</td>\n",
       "      <td>380499060</td>\n",
       "      <td>336</td>\n",
       "    </tr>\n",
       "    <tr>\n",
       "      <th>648</th>\n",
       "      <td>2438</td>\n",
       "      <td>373253202</td>\n",
       "      <td>1270</td>\n",
       "    </tr>\n",
       "    <tr>\n",
       "      <th>3</th>\n",
       "      <td>172</td>\n",
       "      <td>372920800</td>\n",
       "      <td>1411</td>\n",
       "    </tr>\n",
       "    <tr>\n",
       "      <th>6990</th>\n",
       "      <td>21761</td>\n",
       "      <td>364525313</td>\n",
       "      <td>529</td>\n",
       "    </tr>\n",
       "    <tr>\n",
       "      <th>3009</th>\n",
       "      <td>8022</td>\n",
       "      <td>364104540</td>\n",
       "      <td>761</td>\n",
       "    </tr>\n",
       "    <tr>\n",
       "      <th>17765</th>\n",
       "      <td>153986</td>\n",
       "      <td>363150761</td>\n",
       "      <td>199</td>\n",
       "    </tr>\n",
       "    <tr>\n",
       "      <th>5959</th>\n",
       "      <td>17856</td>\n",
       "      <td>359614183</td>\n",
       "      <td>1264</td>\n",
       "    </tr>\n",
       "    <tr>\n",
       "      <th>6442</th>\n",
       "      <td>19670</td>\n",
       "      <td>357590684</td>\n",
       "      <td>1030</td>\n",
       "    </tr>\n",
       "    <tr>\n",
       "      <th>0</th>\n",
       "      <td>133</td>\n",
       "      <td>355594000</td>\n",
       "      <td>722</td>\n",
       "    </tr>\n",
       "  </tbody>\n",
       "</table>\n",
       "</div>"
      ],
      "text/plain": [
       "       player_id  tot_amount  day_id\n",
       "6059       18195  4546304908    2044\n",
       "4017       11519  4313235279     479\n",
       "2945        7739  1529486600       1\n",
       "90           306  1259971100     221\n",
       "4803       14214  1028961414     587\n",
       "565         2288  1016194969     506\n",
       "8351       27483  1010266100      20\n",
       "6506       19898   978462244    1817\n",
       "199          452   911079272     493\n",
       "1050        3412   884709326      81\n",
       "21111     162535   868667472     883\n",
       "1176        3796   785465645     486\n",
       "21989     167815   753299206     720\n",
       "9360       30680   720992982    1227\n",
       "25988     204758   706073618     494\n",
       "2070        5621   663964870     127\n",
       "94           311   621799818    1468\n",
       "6478       19828   600520258     976\n",
       "27840     220782   590782276    1059\n",
       "6220       18743   581636991     694\n",
       "19004     156325   555679139    1051\n",
       "29295     228427   543129386     604\n",
       "16858     152430   535455441     425\n",
       "22555     171533   526705759     386\n",
       "32761     259688   507974840     445\n",
       "8019       26332   500500000       1\n",
       "3159        8590   493355700     801\n",
       "20781     161171   459561798    1107\n",
       "1739        5058   455270889     724\n",
       "4005       11477   451753792     453\n",
       "1940        5417   440080458    1300\n",
       "6267       18921   426210522     745\n",
       "23313     176343   420881719     567\n",
       "4419       12842   409522921     712\n",
       "3790       10628   407881167     608\n",
       "944         3104   405385268    1061\n",
       "37727     296828   405196857     163\n",
       "22327     169887   400624200     480\n",
       "7078       22068   399024911     466\n",
       "22196     169193   396806128    1424\n",
       "14389     147714   393751996     343\n",
       "15265     149412   380499060     336\n",
       "648         2438   373253202    1270\n",
       "3            172   372920800    1411\n",
       "6990       21761   364525313     529\n",
       "3009        8022   364104540     761\n",
       "17765     153986   363150761     199\n",
       "5959       17856   359614183    1264\n",
       "6442       19670   357590684    1030\n",
       "0            133   355594000     722"
      ]
     },
     "execution_count": 14,
     "metadata": {},
     "output_type": "execute_result"
    }
   ],
   "source": [
    "data.groupby(\"player_id\").agg({\"tot_amount\": 'sum', \"day_id\":'count'}).reset_index().sort_values(by=\"tot_amount\", ascending = False).head(50)"
   ]
  },
  {
   "cell_type": "code",
   "execution_count": 15,
   "id": "ecbe99f9-2ad1-444e-a9e6-c82100cade02",
   "metadata": {
    "scrolled": true
   },
   "outputs": [
    {
     "data": {
      "text/plain": [
       "(2519505, 9)"
      ]
     },
     "execution_count": 15,
     "metadata": {},
     "output_type": "execute_result"
    }
   ],
   "source": [
    "data.shape"
   ]
  },
  {
   "cell_type": "code",
   "execution_count": 16,
   "id": "e32cc166-df55-4070-b696-7860e21de3ed",
   "metadata": {},
   "outputs": [
    {
     "data": {
      "text/plain": [
       "transaction_type\n",
       "deposit     143429232664\n",
       "withdraw     81543929136\n",
       "Name: tot_amount, dtype: int64"
      ]
     },
     "execution_count": 16,
     "metadata": {},
     "output_type": "execute_result"
    }
   ],
   "source": [
    "data[\"transaction_type\"].value_counts()\n",
    "data.groupby(\"transaction_type\").tot_amount.sum()"
   ]
  },
  {
   "cell_type": "code",
   "execution_count": 17,
   "id": "0bf8c949-d369-4bf8-8443-668fb9368497",
   "metadata": {},
   "outputs": [
    {
     "data": {
      "text/plain": [
       "np.float64(0.6724541945230061)"
      ]
     },
     "execution_count": 17,
     "metadata": {},
     "output_type": "execute_result"
    }
   ],
   "source": [
    "dd = data.pivot_table(index = \"day_id\", columns=\"transaction_type\", values=\"tot_amount\", aggfunc=\"sum\")\n",
    "dd[\"wdr_rate\"] = dd[\"withdraw\"]/dd[\"deposit\"]\n",
    "dd.wdr_rate.mean()"
   ]
  },
  {
   "cell_type": "code",
   "execution_count": 18,
   "id": "3c196b26-8b3b-4564-8de2-58dc0b3897d9",
   "metadata": {},
   "outputs": [
    {
     "data": {
      "text/plain": [
       "0.0033602753279811165"
      ]
     },
     "execution_count": 18,
     "metadata": {},
     "output_type": "execute_result"
    }
   ],
   "source": [
    "370861448790/110366387451000"
   ]
  },
  {
   "cell_type": "code",
   "execution_count": 19,
   "id": "33b62c8a-0e87-4c0d-85e3-b952104284bc",
   "metadata": {},
   "outputs": [],
   "source": [
    "# Deposits only\n",
    "data = data[data[\"transaction_type\"]==\"deposit\"]"
   ]
  },
  {
   "cell_type": "code",
   "execution_count": 20,
   "id": "288a8f1c-ae1a-4168-9fe0-0b560b47ebf4",
   "metadata": {},
   "outputs": [],
   "source": [
    "# bm[\"msisdn_1\"] = bm[\"bundle_msisdn\"]\n",
    "data[\"player_id_1\"] = data[\"player_id\"]"
   ]
  },
  {
   "cell_type": "code",
   "execution_count": 21,
   "id": "6f674410-bfe3-415b-97c0-3d2f48f19e93",
   "metadata": {},
   "outputs": [
    {
     "data": {
      "text/html": [
       "<div>\n",
       "<style scoped>\n",
       "    .dataframe tbody tr th:only-of-type {\n",
       "        vertical-align: middle;\n",
       "    }\n",
       "\n",
       "    .dataframe tbody tr th {\n",
       "        vertical-align: top;\n",
       "    }\n",
       "\n",
       "    .dataframe thead th {\n",
       "        text-align: right;\n",
       "    }\n",
       "</style>\n",
       "<table border=\"1\" class=\"dataframe\">\n",
       "  <thead>\n",
       "    <tr style=\"text-align: right;\">\n",
       "      <th></th>\n",
       "      <th>player_id</th>\n",
       "      <th>day_id</th>\n",
       "      <th>player_id_1</th>\n",
       "      <th>tot_amount</th>\n",
       "    </tr>\n",
       "  </thead>\n",
       "  <tbody>\n",
       "    <tr>\n",
       "      <th>163351</th>\n",
       "      <td>158204</td>\n",
       "      <td>2025-07-14</td>\n",
       "      <td>158204</td>\n",
       "      <td>20000</td>\n",
       "    </tr>\n",
       "    <tr>\n",
       "      <th>2124571</th>\n",
       "      <td>6410</td>\n",
       "      <td>2022-02-15</td>\n",
       "      <td>6410</td>\n",
       "      <td>18000</td>\n",
       "    </tr>\n",
       "    <tr>\n",
       "      <th>1637749</th>\n",
       "      <td>5984</td>\n",
       "      <td>2025-03-18</td>\n",
       "      <td>5984</td>\n",
       "      <td>50000</td>\n",
       "    </tr>\n",
       "  </tbody>\n",
       "</table>\n",
       "</div>"
      ],
      "text/plain": [
       "         player_id     day_id  player_id_1  tot_amount\n",
       "163351      158204 2025-07-14       158204       20000\n",
       "2124571       6410 2022-02-15         6410       18000\n",
       "1637749       5984 2025-03-18         5984       50000"
      ]
     },
     "execution_count": 21,
     "metadata": {},
     "output_type": "execute_result"
    }
   ],
   "source": [
    "data = data[[\"player_id\", \"day_id\", \"player_id_1\", \"tot_amount\"]]\n",
    "data.sample(3)"
   ]
  },
  {
   "cell_type": "code",
   "execution_count": 22,
   "id": "50f7a6d1-2511-4192-8050-e26e93dd075a",
   "metadata": {},
   "outputs": [],
   "source": [
    "# bm.columns = [\"msisdn\", \"day_id\", \"msisdn_1\", \"bundle_fee\"]"
   ]
  },
  {
   "cell_type": "markdown",
   "id": "e2a75a5d-21f9-40f9-9e7b-7b8b2e95e118",
   "metadata": {},
   "source": [
    "#### Preprocess the data"
   ]
  },
  {
   "cell_type": "code",
   "execution_count": 23,
   "id": "7c776984-22a5-4cd4-a6df-052a613e263f",
   "metadata": {},
   "outputs": [],
   "source": [
    "import datetime\n",
    "from dateutil.relativedelta import relativedelta"
   ]
  },
  {
   "cell_type": "code",
   "execution_count": 24,
   "id": "ce338e82-30d4-43d5-a20f-375dc9384243",
   "metadata": {},
   "outputs": [],
   "source": [
    "data[\"day_id_new\"] = data[\"day_id\"]"
   ]
  },
  {
   "cell_type": "code",
   "execution_count": 25,
   "id": "b116c3d3-92a7-4055-ae3a-e6ebcd705122",
   "metadata": {},
   "outputs": [
    {
     "data": {
      "text/plain": [
       "np.int64(0)"
      ]
     },
     "execution_count": 25,
     "metadata": {},
     "output_type": "execute_result"
    }
   ],
   "source": [
    "data.day_id.isna().sum()"
   ]
  },
  {
   "cell_type": "code",
   "execution_count": 26,
   "id": "d7fda322-d8e5-4092-bd6c-bc4af8868992",
   "metadata": {},
   "outputs": [],
   "source": [
    "data = data[data[\"day_id\"].notna()]"
   ]
  },
  {
   "cell_type": "code",
   "execution_count": 27,
   "id": "7106d67b-9372-40b0-a335-4adfb98de7d2",
   "metadata": {},
   "outputs": [],
   "source": [
    "# data[\"day_id\"] = data[\"day_id\"].astype('int64')"
   ]
  },
  {
   "cell_type": "code",
   "execution_count": 28,
   "id": "ad9206e5-9cc1-4242-85d2-11f7b503c341",
   "metadata": {},
   "outputs": [],
   "source": [
    "# data[\"day_id\"]"
   ]
  },
  {
   "cell_type": "code",
   "execution_count": 29,
   "id": "3e0dcc07-2cf0-4997-a011-671b06f5645b",
   "metadata": {},
   "outputs": [],
   "source": [
    "# data[\"day_id\"] = data[\"day_id\"].apply(lambda x: datetime.datetime.strptime(str(x), \"%Y%m%d\"))"
   ]
  },
  {
   "cell_type": "code",
   "execution_count": 30,
   "id": "6434bc79-1b69-4e61-93a7-412db8f2ad82",
   "metadata": {},
   "outputs": [],
   "source": [
    "None"
   ]
  },
  {
   "cell_type": "code",
   "execution_count": 31,
   "id": "5b812859-7e27-406e-9401-d2236cbe8acd",
   "metadata": {},
   "outputs": [],
   "source": [
    "data[\"month_id\"]=data.day_id.apply(lambda x: str(x)[:7])"
   ]
  },
  {
   "cell_type": "code",
   "execution_count": 32,
   "id": "827f387d-7bfd-4a83-b097-6fb1bd5e9ac6",
   "metadata": {},
   "outputs": [],
   "source": [
    "# data[\"msisdn_1\"] = data[\"msisdn\"]"
   ]
  },
  {
   "cell_type": "code",
   "execution_count": 33,
   "id": "f4448db9-1dcc-45b2-98c3-e89b870d679b",
   "metadata": {},
   "outputs": [
    {
     "data": {
      "text/html": [
       "<div>\n",
       "<style scoped>\n",
       "    .dataframe tbody tr th:only-of-type {\n",
       "        vertical-align: middle;\n",
       "    }\n",
       "\n",
       "    .dataframe tbody tr th {\n",
       "        vertical-align: top;\n",
       "    }\n",
       "\n",
       "    .dataframe thead th {\n",
       "        text-align: right;\n",
       "    }\n",
       "</style>\n",
       "<table border=\"1\" class=\"dataframe\">\n",
       "  <thead>\n",
       "    <tr style=\"text-align: right;\">\n",
       "      <th></th>\n",
       "      <th>player_id</th>\n",
       "      <th>day_id</th>\n",
       "      <th>player_id_1</th>\n",
       "      <th>tot_amount</th>\n",
       "      <th>day_id_new</th>\n",
       "      <th>month_id</th>\n",
       "    </tr>\n",
       "  </thead>\n",
       "  <tbody>\n",
       "    <tr>\n",
       "      <th>1895607</th>\n",
       "      <td>3811</td>\n",
       "      <td>2022-07-18</td>\n",
       "      <td>3811</td>\n",
       "      <td>2000</td>\n",
       "      <td>2022-07-18</td>\n",
       "      <td>2022-07</td>\n",
       "    </tr>\n",
       "    <tr>\n",
       "      <th>2455381</th>\n",
       "      <td>7827</td>\n",
       "      <td>2022-05-13</td>\n",
       "      <td>7827</td>\n",
       "      <td>50000</td>\n",
       "      <td>2022-05-13</td>\n",
       "      <td>2022-05</td>\n",
       "    </tr>\n",
       "    <tr>\n",
       "      <th>2191610</th>\n",
       "      <td>149148</td>\n",
       "      <td>2023-10-20</td>\n",
       "      <td>149148</td>\n",
       "      <td>2000</td>\n",
       "      <td>2023-10-20</td>\n",
       "      <td>2023-10</td>\n",
       "    </tr>\n",
       "  </tbody>\n",
       "</table>\n",
       "</div>"
      ],
      "text/plain": [
       "         player_id     day_id  player_id_1  tot_amount day_id_new month_id\n",
       "1895607       3811 2022-07-18         3811        2000 2022-07-18  2022-07\n",
       "2455381       7827 2022-05-13         7827       50000 2022-05-13  2022-05\n",
       "2191610     149148 2023-10-20       149148        2000 2023-10-20  2023-10"
      ]
     },
     "execution_count": 33,
     "metadata": {},
     "output_type": "execute_result"
    }
   ],
   "source": [
    "data.sample(3)"
   ]
  },
  {
   "cell_type": "code",
   "execution_count": 34,
   "id": "254d4ab0-5233-42d4-b2d2-a015042dd81e",
   "metadata": {},
   "outputs": [],
   "source": [
    "# data[\"quarter\"] = pd.PeriodIndex(data['day_id'] ,freq='Q')\n",
    "data[\"month\"] = pd.PeriodIndex(data['day_id'] ,freq='M')"
   ]
  },
  {
   "cell_type": "code",
   "execution_count": 35,
   "id": "64f26056-a18e-4ae2-b40f-dfd75eca316b",
   "metadata": {},
   "outputs": [],
   "source": [
    "data[\"tot_amount\"] = np.where(data[\"tot_amount\"].isna(), 0, data[\"tot_amount\"])"
   ]
  },
  {
   "cell_type": "code",
   "execution_count": 36,
   "id": "b77bf054-a6f0-4e84-aa17-db2881d7d3ae",
   "metadata": {
    "scrolled": true
   },
   "outputs": [
    {
     "data": {
      "text/html": [
       "<div>\n",
       "<style scoped>\n",
       "    .dataframe tbody tr th:only-of-type {\n",
       "        vertical-align: middle;\n",
       "    }\n",
       "\n",
       "    .dataframe tbody tr th {\n",
       "        vertical-align: top;\n",
       "    }\n",
       "\n",
       "    .dataframe thead th {\n",
       "        text-align: right;\n",
       "    }\n",
       "</style>\n",
       "<table border=\"1\" class=\"dataframe\">\n",
       "  <thead>\n",
       "    <tr style=\"text-align: right;\">\n",
       "      <th></th>\n",
       "      <th>player_id</th>\n",
       "      <th>day_id</th>\n",
       "      <th>Quantity</th>\n",
       "      <th>UnitPrice</th>\n",
       "      <th>InvoiceDate</th>\n",
       "    </tr>\n",
       "  </thead>\n",
       "  <tbody>\n",
       "    <tr>\n",
       "      <th>260933</th>\n",
       "      <td>5994</td>\n",
       "      <td>2021-08-27</td>\n",
       "      <td>1</td>\n",
       "      <td>44594.0</td>\n",
       "      <td>2021-08-27</td>\n",
       "    </tr>\n",
       "    <tr>\n",
       "      <th>735054</th>\n",
       "      <td>30627</td>\n",
       "      <td>2022-08-07</td>\n",
       "      <td>1</td>\n",
       "      <td>7500.0</td>\n",
       "      <td>2022-08-07</td>\n",
       "    </tr>\n",
       "    <tr>\n",
       "      <th>1087588</th>\n",
       "      <td>155266</td>\n",
       "      <td>2024-08-18</td>\n",
       "      <td>1</td>\n",
       "      <td>1000.0</td>\n",
       "      <td>2024-08-18</td>\n",
       "    </tr>\n",
       "  </tbody>\n",
       "</table>\n",
       "</div>"
      ],
      "text/plain": [
       "         player_id     day_id  Quantity  UnitPrice InvoiceDate\n",
       "260933        5994 2021-08-27         1    44594.0  2021-08-27\n",
       "735054       30627 2022-08-07         1     7500.0  2022-08-07\n",
       "1087588     155266 2024-08-18         1     1000.0  2024-08-18"
      ]
     },
     "execution_count": 36,
     "metadata": {},
     "output_type": "execute_result"
    }
   ],
   "source": [
    "# Day\n",
    "data1 = data.groupby([\"player_id\", \"day_id\"]).agg(Quantity = (\"player_id_1\", 'count'),\n",
    "                                                  UnitPrice = (\"tot_amount\", 'mean'),\n",
    "                                                  InvoiceDate = (\"day_id\", 'min')).reset_index()\n",
    "data1.sample(3)"
   ]
  },
  {
   "cell_type": "code",
   "execution_count": 37,
   "id": "fa4c51aa-c107-4e2d-a295-f617327c9141",
   "metadata": {
    "scrolled": true
   },
   "outputs": [
    {
     "data": {
      "text/html": [
       "<div>\n",
       "<style scoped>\n",
       "    .dataframe tbody tr th:only-of-type {\n",
       "        vertical-align: middle;\n",
       "    }\n",
       "\n",
       "    .dataframe tbody tr th {\n",
       "        vertical-align: top;\n",
       "    }\n",
       "\n",
       "    .dataframe thead th {\n",
       "        text-align: right;\n",
       "    }\n",
       "</style>\n",
       "<table border=\"1\" class=\"dataframe\">\n",
       "  <thead>\n",
       "    <tr style=\"text-align: right;\">\n",
       "      <th></th>\n",
       "      <th>player_id</th>\n",
       "      <th>month_id</th>\n",
       "      <th>Quantity</th>\n",
       "      <th>UnitPrice</th>\n",
       "      <th>InvoiceDate</th>\n",
       "    </tr>\n",
       "  </thead>\n",
       "  <tbody>\n",
       "    <tr>\n",
       "      <th>103557</th>\n",
       "      <td>32430</td>\n",
       "      <td>2024-11</td>\n",
       "      <td>3</td>\n",
       "      <td>9666.666667</td>\n",
       "      <td>2024-11-16</td>\n",
       "    </tr>\n",
       "    <tr>\n",
       "      <th>150044</th>\n",
       "      <td>151439</td>\n",
       "      <td>2025-02</td>\n",
       "      <td>2</td>\n",
       "      <td>21600.000000</td>\n",
       "      <td>2025-02-20</td>\n",
       "    </tr>\n",
       "    <tr>\n",
       "      <th>73273</th>\n",
       "      <td>19897</td>\n",
       "      <td>2024-07</td>\n",
       "      <td>2</td>\n",
       "      <td>80000.000000</td>\n",
       "      <td>2024-07-08</td>\n",
       "    </tr>\n",
       "  </tbody>\n",
       "</table>\n",
       "</div>"
      ],
      "text/plain": [
       "        player_id month_id  Quantity     UnitPrice InvoiceDate\n",
       "103557      32430  2024-11         3   9666.666667  2024-11-16\n",
       "150044     151439  2025-02         2  21600.000000  2025-02-20\n",
       "73273       19897  2024-07         2  80000.000000  2024-07-08"
      ]
     },
     "execution_count": 37,
     "metadata": {},
     "output_type": "execute_result"
    }
   ],
   "source": [
    "# Quarter, Month\n",
    "data1 = data.groupby([\"player_id\", \"month_id\"]).agg(Quantity = (\"player_id_1\", 'count'),\n",
    "                                                    UnitPrice = (\"tot_amount\", 'mean'),\n",
    "                                                    InvoiceDate = (\"day_id\", 'min')).reset_index()\n",
    "data1.sample(3)"
   ]
  },
  {
   "cell_type": "code",
   "execution_count": 38,
   "id": "3567bd82-6683-41f5-bc66-82e0026165df",
   "metadata": {},
   "outputs": [],
   "source": [
    "data1.columns = [\"CustomerID\", \"day_id\", \"Quantity\", \"UnitPrice\", \"InvoiceDate\"]"
   ]
  },
  {
   "cell_type": "code",
   "execution_count": 39,
   "id": "eb1421a4-57f7-4951-b49c-7cc0cc0c6148",
   "metadata": {},
   "outputs": [
    {
     "data": {
      "text/html": [
       "<div>\n",
       "<style scoped>\n",
       "    .dataframe tbody tr th:only-of-type {\n",
       "        vertical-align: middle;\n",
       "    }\n",
       "\n",
       "    .dataframe tbody tr th {\n",
       "        vertical-align: top;\n",
       "    }\n",
       "\n",
       "    .dataframe thead th {\n",
       "        text-align: right;\n",
       "    }\n",
       "</style>\n",
       "<table border=\"1\" class=\"dataframe\">\n",
       "  <thead>\n",
       "    <tr style=\"text-align: right;\">\n",
       "      <th></th>\n",
       "      <th>CustomerID</th>\n",
       "      <th>day_id</th>\n",
       "      <th>Quantity</th>\n",
       "      <th>UnitPrice</th>\n",
       "      <th>InvoiceDate</th>\n",
       "    </tr>\n",
       "  </thead>\n",
       "  <tbody>\n",
       "    <tr>\n",
       "      <th>9542</th>\n",
       "      <td>2555</td>\n",
       "      <td>2024-04</td>\n",
       "      <td>16</td>\n",
       "      <td>151293.750000</td>\n",
       "      <td>2024-04-01</td>\n",
       "    </tr>\n",
       "    <tr>\n",
       "      <th>118036</th>\n",
       "      <td>56543</td>\n",
       "      <td>2023-02</td>\n",
       "      <td>9</td>\n",
       "      <td>23333.333333</td>\n",
       "      <td>2023-02-01</td>\n",
       "    </tr>\n",
       "    <tr>\n",
       "      <th>228934</th>\n",
       "      <td>240484</td>\n",
       "      <td>2025-07</td>\n",
       "      <td>18</td>\n",
       "      <td>13616.666667</td>\n",
       "      <td>2025-07-01</td>\n",
       "    </tr>\n",
       "    <tr>\n",
       "      <th>111669</th>\n",
       "      <td>34313</td>\n",
       "      <td>2024-03</td>\n",
       "      <td>1</td>\n",
       "      <td>7000.000000</td>\n",
       "      <td>2024-03-19</td>\n",
       "    </tr>\n",
       "    <tr>\n",
       "      <th>13992</th>\n",
       "      <td>3381</td>\n",
       "      <td>2021-04</td>\n",
       "      <td>7</td>\n",
       "      <td>12714.285714</td>\n",
       "      <td>2021-04-02</td>\n",
       "    </tr>\n",
       "  </tbody>\n",
       "</table>\n",
       "</div>"
      ],
      "text/plain": [
       "        CustomerID   day_id  Quantity      UnitPrice InvoiceDate\n",
       "9542          2555  2024-04        16  151293.750000  2024-04-01\n",
       "118036       56543  2023-02         9   23333.333333  2023-02-01\n",
       "228934      240484  2025-07        18   13616.666667  2025-07-01\n",
       "111669       34313  2024-03         1    7000.000000  2024-03-19\n",
       "13992         3381  2021-04         7   12714.285714  2021-04-02"
      ]
     },
     "execution_count": 39,
     "metadata": {},
     "output_type": "execute_result"
    }
   ],
   "source": [
    "data1.sample(5)"
   ]
  },
  {
   "cell_type": "markdown",
   "id": "1aba290b-9fe5-4e9e-ac38-6be0b4926f78",
   "metadata": {},
   "source": [
    "#### Data Understanding"
   ]
  },
  {
   "cell_type": "code",
   "execution_count": 40,
   "id": "825e027a-7d2b-40d6-b923-3773374532ff",
   "metadata": {},
   "outputs": [
    {
     "data": {
      "text/html": [
       "<div>\n",
       "<style scoped>\n",
       "    .dataframe tbody tr th:only-of-type {\n",
       "        vertical-align: middle;\n",
       "    }\n",
       "\n",
       "    .dataframe tbody tr th {\n",
       "        vertical-align: top;\n",
       "    }\n",
       "\n",
       "    .dataframe thead th {\n",
       "        text-align: right;\n",
       "    }\n",
       "</style>\n",
       "<table border=\"1\" class=\"dataframe\">\n",
       "  <thead>\n",
       "    <tr style=\"text-align: right;\">\n",
       "      <th></th>\n",
       "      <th>CustomerID</th>\n",
       "      <th>day_id</th>\n",
       "      <th>Quantity</th>\n",
       "      <th>UnitPrice</th>\n",
       "      <th>InvoiceDate</th>\n",
       "    </tr>\n",
       "  </thead>\n",
       "  <tbody>\n",
       "    <tr>\n",
       "      <th>0</th>\n",
       "      <td>133</td>\n",
       "      <td>2020-12</td>\n",
       "      <td>5</td>\n",
       "      <td>121900.0</td>\n",
       "      <td>2020-12-12</td>\n",
       "    </tr>\n",
       "    <tr>\n",
       "      <th>1</th>\n",
       "      <td>133</td>\n",
       "      <td>2021-01</td>\n",
       "      <td>4</td>\n",
       "      <td>27625.0</td>\n",
       "      <td>2021-01-03</td>\n",
       "    </tr>\n",
       "    <tr>\n",
       "      <th>2</th>\n",
       "      <td>133</td>\n",
       "      <td>2021-02</td>\n",
       "      <td>1</td>\n",
       "      <td>40000.0</td>\n",
       "      <td>2021-02-11</td>\n",
       "    </tr>\n",
       "    <tr>\n",
       "      <th>3</th>\n",
       "      <td>133</td>\n",
       "      <td>2021-03</td>\n",
       "      <td>4</td>\n",
       "      <td>36875.0</td>\n",
       "      <td>2021-03-03</td>\n",
       "    </tr>\n",
       "    <tr>\n",
       "      <th>4</th>\n",
       "      <td>133</td>\n",
       "      <td>2021-05</td>\n",
       "      <td>1</td>\n",
       "      <td>700000.0</td>\n",
       "      <td>2021-05-29</td>\n",
       "    </tr>\n",
       "  </tbody>\n",
       "</table>\n",
       "</div>"
      ],
      "text/plain": [
       "   CustomerID   day_id  Quantity  UnitPrice InvoiceDate\n",
       "0         133  2020-12         5   121900.0  2020-12-12\n",
       "1         133  2021-01         4    27625.0  2021-01-03\n",
       "2         133  2021-02         1    40000.0  2021-02-11\n",
       "3         133  2021-03         4    36875.0  2021-03-03\n",
       "4         133  2021-05         1   700000.0  2021-05-29"
      ]
     },
     "execution_count": 40,
     "metadata": {},
     "output_type": "execute_result"
    }
   ],
   "source": [
    "data1.head()"
   ]
  },
  {
   "cell_type": "code",
   "execution_count": 41,
   "id": "1c26e1ec-b609-4094-a9c4-28a6e099a369",
   "metadata": {},
   "outputs": [
    {
     "data": {
      "text/plain": [
       "(298746, 5)"
      ]
     },
     "execution_count": 41,
     "metadata": {},
     "output_type": "execute_result"
    }
   ],
   "source": [
    "data1.shape"
   ]
  },
  {
   "cell_type": "code",
   "execution_count": 42,
   "id": "f88acad1-eaf5-44b8-bbbc-e120b9a9cb9b",
   "metadata": {},
   "outputs": [
    {
     "name": "stdout",
     "output_type": "stream",
     "text": [
      "<class 'pandas.core.frame.DataFrame'>\n",
      "RangeIndex: 298746 entries, 0 to 298745\n",
      "Data columns (total 5 columns):\n",
      " #   Column       Non-Null Count   Dtype         \n",
      "---  ------       --------------   -----         \n",
      " 0   CustomerID   298746 non-null  int64         \n",
      " 1   day_id       298746 non-null  object        \n",
      " 2   Quantity     298746 non-null  int64         \n",
      " 3   UnitPrice    298746 non-null  float64       \n",
      " 4   InvoiceDate  298746 non-null  datetime64[ns]\n",
      "dtypes: datetime64[ns](1), float64(1), int64(2), object(1)\n",
      "memory usage: 11.4+ MB\n"
     ]
    }
   ],
   "source": [
    "data1.info()"
   ]
  },
  {
   "cell_type": "code",
   "execution_count": 43,
   "id": "9b13c3a7-ae02-4cf5-91d6-18f3db29c378",
   "metadata": {},
   "outputs": [
    {
     "data": {
      "text/html": [
       "<div>\n",
       "<style scoped>\n",
       "    .dataframe tbody tr th:only-of-type {\n",
       "        vertical-align: middle;\n",
       "    }\n",
       "\n",
       "    .dataframe tbody tr th {\n",
       "        vertical-align: top;\n",
       "    }\n",
       "\n",
       "    .dataframe thead th {\n",
       "        text-align: right;\n",
       "    }\n",
       "</style>\n",
       "<table border=\"1\" class=\"dataframe\">\n",
       "  <thead>\n",
       "    <tr style=\"text-align: right;\">\n",
       "      <th></th>\n",
       "      <th>CustomerID</th>\n",
       "      <th>Quantity</th>\n",
       "      <th>UnitPrice</th>\n",
       "      <th>InvoiceDate</th>\n",
       "    </tr>\n",
       "  </thead>\n",
       "  <tbody>\n",
       "    <tr>\n",
       "      <th>count</th>\n",
       "      <td>298746.000000</td>\n",
       "      <td>298746.000000</td>\n",
       "      <td>2.987460e+05</td>\n",
       "      <td>298746</td>\n",
       "    </tr>\n",
       "    <tr>\n",
       "      <th>mean</th>\n",
       "      <td>152366.650928</td>\n",
       "      <td>6.001346</td>\n",
       "      <td>6.215255e+04</td>\n",
       "      <td>2024-01-19 12:23:43.486171904</td>\n",
       "    </tr>\n",
       "    <tr>\n",
       "      <th>min</th>\n",
       "      <td>133.000000</td>\n",
       "      <td>1.000000</td>\n",
       "      <td>1.000000e+01</td>\n",
       "      <td>2020-11-06 00:00:00</td>\n",
       "    </tr>\n",
       "    <tr>\n",
       "      <th>25%</th>\n",
       "      <td>20306.000000</td>\n",
       "      <td>1.000000</td>\n",
       "      <td>6.000000e+03</td>\n",
       "      <td>2023-04-01 00:00:00</td>\n",
       "    </tr>\n",
       "    <tr>\n",
       "      <th>50%</th>\n",
       "      <td>151209.000000</td>\n",
       "      <td>3.000000</td>\n",
       "      <td>1.474000e+04</td>\n",
       "      <td>2024-03-09 00:00:00</td>\n",
       "    </tr>\n",
       "    <tr>\n",
       "      <th>75%</th>\n",
       "      <td>232712.750000</td>\n",
       "      <td>8.000000</td>\n",
       "      <td>3.500000e+04</td>\n",
       "      <td>2024-12-07 00:00:00</td>\n",
       "    </tr>\n",
       "    <tr>\n",
       "      <th>max</th>\n",
       "      <td>638256.000000</td>\n",
       "      <td>31.000000</td>\n",
       "      <td>1.529487e+09</td>\n",
       "      <td>2025-09-09 00:00:00</td>\n",
       "    </tr>\n",
       "    <tr>\n",
       "      <th>std</th>\n",
       "      <td>140560.491765</td>\n",
       "      <td>6.720668</td>\n",
       "      <td>3.256470e+06</td>\n",
       "      <td>NaN</td>\n",
       "    </tr>\n",
       "  </tbody>\n",
       "</table>\n",
       "</div>"
      ],
      "text/plain": [
       "          CustomerID       Quantity     UnitPrice                    InvoiceDate\n",
       "count  298746.000000  298746.000000  2.987460e+05                         298746\n",
       "mean   152366.650928       6.001346  6.215255e+04  2024-01-19 12:23:43.486171904\n",
       "min       133.000000       1.000000  1.000000e+01            2020-11-06 00:00:00\n",
       "25%     20306.000000       1.000000  6.000000e+03            2023-04-01 00:00:00\n",
       "50%    151209.000000       3.000000  1.474000e+04            2024-03-09 00:00:00\n",
       "75%    232712.750000       8.000000  3.500000e+04            2024-12-07 00:00:00\n",
       "max    638256.000000      31.000000  1.529487e+09            2025-09-09 00:00:00\n",
       "std    140560.491765       6.720668  3.256470e+06                            NaN"
      ]
     },
     "execution_count": 43,
     "metadata": {},
     "output_type": "execute_result"
    }
   ],
   "source": [
    "data1.describe()"
   ]
  },
  {
   "cell_type": "code",
   "execution_count": 44,
   "id": "c0c209d5-f177-4cb9-aa55-c18efcedb19a",
   "metadata": {},
   "outputs": [
    {
     "data": {
      "text/plain": [
       "(np.float64(10.0), np.float64(1529486600.0))"
      ]
     },
     "execution_count": 44,
     "metadata": {},
     "output_type": "execute_result"
    }
   ],
   "source": [
    "data1[\"UnitPrice\"].min(), data1[\"UnitPrice\"].max()"
   ]
  },
  {
   "cell_type": "code",
   "execution_count": 45,
   "id": "8ffc0fea-69d9-42dc-bc22-db93a6b3a4cd",
   "metadata": {},
   "outputs": [],
   "source": [
    "# sns.distplot(data1.UnitPrice)"
   ]
  },
  {
   "cell_type": "markdown",
   "id": "cfafa285-74e9-46d6-b6e3-81bebc3950b8",
   "metadata": {},
   "source": [
    "### Data Preprocessing"
   ]
  },
  {
   "cell_type": "code",
   "execution_count": 46,
   "id": "4980a7fd-8e24-4b7f-95f3-bea4eb31e297",
   "metadata": {
    "tags": []
   },
   "outputs": [],
   "source": [
    "# df = df[df['Quantity'] > 0 ]\n",
    "# df = df[df['UnitPrice'] > 0]\n",
    "# df = df[~df['InvoiceNo'].str.contains(\"C\",na=False)] # drop returned items"
   ]
  },
  {
   "cell_type": "code",
   "execution_count": 47,
   "id": "f28c09ac-3889-40fe-af12-8bbbacf3e641",
   "metadata": {},
   "outputs": [],
   "source": [
    "data1 = data1[data1['Quantity'] > 0 ]\n",
    "data1 = data1[data1['UnitPrice'] > 0]\n",
    "# bm1 = bm1[~bm1['InvoiceNo'].str.contains(\"C\",na=False)] # drop returned items"
   ]
  },
  {
   "cell_type": "markdown",
   "id": "31041550-4f5e-4be8-bf2f-b939c474c742",
   "metadata": {},
   "source": [
    "#### Missing Values\n"
   ]
  },
  {
   "cell_type": "code",
   "execution_count": 48,
   "id": "98afc63e-f254-4c20-b1ab-f093352d59d9",
   "metadata": {},
   "outputs": [
    {
     "data": {
      "text/plain": [
       "CustomerID     0\n",
       "day_id         0\n",
       "Quantity       0\n",
       "UnitPrice      0\n",
       "InvoiceDate    0\n",
       "dtype: int64"
      ]
     },
     "execution_count": 48,
     "metadata": {},
     "output_type": "execute_result"
    }
   ],
   "source": [
    "data1.isna().sum()"
   ]
  },
  {
   "cell_type": "markdown",
   "id": "5fbf2765-9bdc-47c1-9976-5d42c5dfde00",
   "metadata": {},
   "source": [
    "#### Handling Outliers"
   ]
  },
  {
   "cell_type": "code",
   "execution_count": 49,
   "id": "42943109-3081-40fb-9528-1197252899c4",
   "metadata": {},
   "outputs": [],
   "source": [
    "def find_boundaries(df, variable, q1=0.05, q2=0.95):\n",
    "\n",
    "    # the boundaries are the quantiles\n",
    "\n",
    "    lower_boundary = df[variable].quantile(q1)\n",
    "    upper_boundary = df[variable].quantile(q2)\n",
    "\n",
    "    return upper_boundary, lower_boundary\n",
    "\n",
    "def capping_outliers(df,variable):\n",
    "    upper_boundary, lower_boundary =  find_boundaries(df,variable)\n",
    "    df[variable] = np.where(df[variable] > upper_boundary, upper_boundary,\n",
    "                       np.where(df[variable] < lower_boundary, lower_boundary, df[variable]))"
   ]
  },
  {
   "cell_type": "code",
   "execution_count": 50,
   "id": "d8070b72-ca22-46bc-af10-83c39279cf2b",
   "metadata": {},
   "outputs": [],
   "source": [
    "capping_outliers(data1,'UnitPrice')\n",
    "capping_outliers(data1,'Quantity')"
   ]
  },
  {
   "cell_type": "code",
   "execution_count": 51,
   "id": "7b72f2de-7597-4203-9a21-fb414018909f",
   "metadata": {},
   "outputs": [
    {
     "data": {
      "text/html": [
       "<div>\n",
       "<style scoped>\n",
       "    .dataframe tbody tr th:only-of-type {\n",
       "        vertical-align: middle;\n",
       "    }\n",
       "\n",
       "    .dataframe tbody tr th {\n",
       "        vertical-align: top;\n",
       "    }\n",
       "\n",
       "    .dataframe thead th {\n",
       "        text-align: right;\n",
       "    }\n",
       "</style>\n",
       "<table border=\"1\" class=\"dataframe\">\n",
       "  <thead>\n",
       "    <tr style=\"text-align: right;\">\n",
       "      <th></th>\n",
       "      <th>CustomerID</th>\n",
       "      <th>Quantity</th>\n",
       "      <th>UnitPrice</th>\n",
       "      <th>InvoiceDate</th>\n",
       "    </tr>\n",
       "  </thead>\n",
       "  <tbody>\n",
       "    <tr>\n",
       "      <th>count</th>\n",
       "      <td>298746.000000</td>\n",
       "      <td>298746.000000</td>\n",
       "      <td>298746.000000</td>\n",
       "      <td>298746</td>\n",
       "    </tr>\n",
       "    <tr>\n",
       "      <th>mean</th>\n",
       "      <td>152366.650928</td>\n",
       "      <td>5.825755</td>\n",
       "      <td>31918.968994</td>\n",
       "      <td>2024-01-19 12:23:43.486171904</td>\n",
       "    </tr>\n",
       "    <tr>\n",
       "      <th>min</th>\n",
       "      <td>133.000000</td>\n",
       "      <td>1.000000</td>\n",
       "      <td>2000.000000</td>\n",
       "      <td>2020-11-06 00:00:00</td>\n",
       "    </tr>\n",
       "    <tr>\n",
       "      <th>25%</th>\n",
       "      <td>20306.000000</td>\n",
       "      <td>1.000000</td>\n",
       "      <td>6000.000000</td>\n",
       "      <td>2023-04-01 00:00:00</td>\n",
       "    </tr>\n",
       "    <tr>\n",
       "      <th>50%</th>\n",
       "      <td>151209.000000</td>\n",
       "      <td>3.000000</td>\n",
       "      <td>14740.000000</td>\n",
       "      <td>2024-03-09 00:00:00</td>\n",
       "    </tr>\n",
       "    <tr>\n",
       "      <th>75%</th>\n",
       "      <td>232712.750000</td>\n",
       "      <td>8.000000</td>\n",
       "      <td>35000.000000</td>\n",
       "      <td>2024-12-07 00:00:00</td>\n",
       "    </tr>\n",
       "    <tr>\n",
       "      <th>max</th>\n",
       "      <td>638256.000000</td>\n",
       "      <td>22.000000</td>\n",
       "      <td>171214.062500</td>\n",
       "      <td>2025-09-09 00:00:00</td>\n",
       "    </tr>\n",
       "    <tr>\n",
       "      <th>std</th>\n",
       "      <td>140560.491765</td>\n",
       "      <td>6.208953</td>\n",
       "      <td>43244.445698</td>\n",
       "      <td>NaN</td>\n",
       "    </tr>\n",
       "  </tbody>\n",
       "</table>\n",
       "</div>"
      ],
      "text/plain": [
       "          CustomerID       Quantity      UnitPrice                    InvoiceDate\n",
       "count  298746.000000  298746.000000  298746.000000                         298746\n",
       "mean   152366.650928       5.825755   31918.968994  2024-01-19 12:23:43.486171904\n",
       "min       133.000000       1.000000    2000.000000            2020-11-06 00:00:00\n",
       "25%     20306.000000       1.000000    6000.000000            2023-04-01 00:00:00\n",
       "50%    151209.000000       3.000000   14740.000000            2024-03-09 00:00:00\n",
       "75%    232712.750000       8.000000   35000.000000            2024-12-07 00:00:00\n",
       "max    638256.000000      22.000000  171214.062500            2025-09-09 00:00:00\n",
       "std    140560.491765       6.208953   43244.445698                            NaN"
      ]
     },
     "execution_count": 51,
     "metadata": {},
     "output_type": "execute_result"
    }
   ],
   "source": [
    "data1.describe()"
   ]
  },
  {
   "cell_type": "markdown",
   "id": "63a1ab42-86a5-4aad-a6bb-eead4100c080",
   "metadata": {},
   "source": [
    "#### Filtering only United Kingdom for Country"
   ]
  },
  {
   "cell_type": "code",
   "execution_count": 52,
   "id": "5ffad59a-f66a-4980-a380-c07984d99187",
   "metadata": {},
   "outputs": [
    {
     "data": {
      "text/html": [
       "<div>\n",
       "<style scoped>\n",
       "    .dataframe tbody tr th:only-of-type {\n",
       "        vertical-align: middle;\n",
       "    }\n",
       "\n",
       "    .dataframe tbody tr th {\n",
       "        vertical-align: top;\n",
       "    }\n",
       "\n",
       "    .dataframe thead th {\n",
       "        text-align: right;\n",
       "    }\n",
       "</style>\n",
       "<table border=\"1\" class=\"dataframe\">\n",
       "  <thead>\n",
       "    <tr style=\"text-align: right;\">\n",
       "      <th></th>\n",
       "      <th>CustomerID</th>\n",
       "      <th>day_id</th>\n",
       "      <th>Quantity</th>\n",
       "      <th>UnitPrice</th>\n",
       "      <th>InvoiceDate</th>\n",
       "    </tr>\n",
       "  </thead>\n",
       "  <tbody>\n",
       "    <tr>\n",
       "      <th>0</th>\n",
       "      <td>133</td>\n",
       "      <td>2020-12</td>\n",
       "      <td>5.0</td>\n",
       "      <td>121900.0000</td>\n",
       "      <td>2020-12-12</td>\n",
       "    </tr>\n",
       "    <tr>\n",
       "      <th>1</th>\n",
       "      <td>133</td>\n",
       "      <td>2021-01</td>\n",
       "      <td>4.0</td>\n",
       "      <td>27625.0000</td>\n",
       "      <td>2021-01-03</td>\n",
       "    </tr>\n",
       "    <tr>\n",
       "      <th>2</th>\n",
       "      <td>133</td>\n",
       "      <td>2021-02</td>\n",
       "      <td>1.0</td>\n",
       "      <td>40000.0000</td>\n",
       "      <td>2021-02-11</td>\n",
       "    </tr>\n",
       "    <tr>\n",
       "      <th>3</th>\n",
       "      <td>133</td>\n",
       "      <td>2021-03</td>\n",
       "      <td>4.0</td>\n",
       "      <td>36875.0000</td>\n",
       "      <td>2021-03-03</td>\n",
       "    </tr>\n",
       "    <tr>\n",
       "      <th>4</th>\n",
       "      <td>133</td>\n",
       "      <td>2021-05</td>\n",
       "      <td>1.0</td>\n",
       "      <td>171214.0625</td>\n",
       "      <td>2021-05-29</td>\n",
       "    </tr>\n",
       "  </tbody>\n",
       "</table>\n",
       "</div>"
      ],
      "text/plain": [
       "   CustomerID   day_id  Quantity    UnitPrice InvoiceDate\n",
       "0         133  2020-12       5.0  121900.0000  2020-12-12\n",
       "1         133  2021-01       4.0   27625.0000  2021-01-03\n",
       "2         133  2021-02       1.0   40000.0000  2021-02-11\n",
       "3         133  2021-03       4.0   36875.0000  2021-03-03\n",
       "4         133  2021-05       1.0  171214.0625  2021-05-29"
      ]
     },
     "execution_count": 52,
     "metadata": {},
     "output_type": "execute_result"
    }
   ],
   "source": [
    "data1.head()"
   ]
  },
  {
   "cell_type": "code",
   "execution_count": 53,
   "id": "f9946da8-61a8-4d5f-b5b7-5bbc6ccdf7a3",
   "metadata": {},
   "outputs": [
    {
     "data": {
      "text/html": [
       "<div>\n",
       "<style scoped>\n",
       "    .dataframe tbody tr th:only-of-type {\n",
       "        vertical-align: middle;\n",
       "    }\n",
       "\n",
       "    .dataframe tbody tr th {\n",
       "        vertical-align: top;\n",
       "    }\n",
       "\n",
       "    .dataframe thead th {\n",
       "        text-align: right;\n",
       "    }\n",
       "</style>\n",
       "<table border=\"1\" class=\"dataframe\">\n",
       "  <thead>\n",
       "    <tr style=\"text-align: right;\">\n",
       "      <th></th>\n",
       "      <th>CustomerID</th>\n",
       "      <th>day_id</th>\n",
       "      <th>Quantity</th>\n",
       "      <th>UnitPrice</th>\n",
       "      <th>InvoiceDate</th>\n",
       "    </tr>\n",
       "  </thead>\n",
       "  <tbody>\n",
       "    <tr>\n",
       "      <th>0</th>\n",
       "      <td>133</td>\n",
       "      <td>2020-12</td>\n",
       "      <td>5.0</td>\n",
       "      <td>121900.0000</td>\n",
       "      <td>2020-12-12</td>\n",
       "    </tr>\n",
       "    <tr>\n",
       "      <th>1</th>\n",
       "      <td>133</td>\n",
       "      <td>2021-01</td>\n",
       "      <td>4.0</td>\n",
       "      <td>27625.0000</td>\n",
       "      <td>2021-01-03</td>\n",
       "    </tr>\n",
       "    <tr>\n",
       "      <th>2</th>\n",
       "      <td>133</td>\n",
       "      <td>2021-02</td>\n",
       "      <td>1.0</td>\n",
       "      <td>40000.0000</td>\n",
       "      <td>2021-02-11</td>\n",
       "    </tr>\n",
       "    <tr>\n",
       "      <th>3</th>\n",
       "      <td>133</td>\n",
       "      <td>2021-03</td>\n",
       "      <td>4.0</td>\n",
       "      <td>36875.0000</td>\n",
       "      <td>2021-03-03</td>\n",
       "    </tr>\n",
       "    <tr>\n",
       "      <th>4</th>\n",
       "      <td>133</td>\n",
       "      <td>2021-05</td>\n",
       "      <td>1.0</td>\n",
       "      <td>171214.0625</td>\n",
       "      <td>2021-05-29</td>\n",
       "    </tr>\n",
       "  </tbody>\n",
       "</table>\n",
       "</div>"
      ],
      "text/plain": [
       "   CustomerID   day_id  Quantity    UnitPrice InvoiceDate\n",
       "0         133  2020-12       5.0  121900.0000  2020-12-12\n",
       "1         133  2021-01       4.0   27625.0000  2021-01-03\n",
       "2         133  2021-02       1.0   40000.0000  2021-02-11\n",
       "3         133  2021-03       4.0   36875.0000  2021-03-03\n",
       "4         133  2021-05       1.0  171214.0625  2021-05-29"
      ]
     },
     "execution_count": 53,
     "metadata": {},
     "output_type": "execute_result"
    }
   ],
   "source": [
    "data1.head()"
   ]
  },
  {
   "cell_type": "markdown",
   "id": "0061e10e-d853-4476-8ce3-69db1e80c449",
   "metadata": {},
   "source": [
    "#### Creating Column 'Total Price'"
   ]
  },
  {
   "cell_type": "code",
   "execution_count": 54,
   "id": "9d5fa101-56c5-46a1-ac72-74a62f2d3b1e",
   "metadata": {},
   "outputs": [],
   "source": [
    "data1['Total Price'] = data1['UnitPrice'] * data1['Quantity']"
   ]
  },
  {
   "cell_type": "code",
   "execution_count": 55,
   "id": "18bc5997-5d8c-4be7-a282-8024c5413d2c",
   "metadata": {},
   "outputs": [
    {
     "data": {
      "text/html": [
       "<div>\n",
       "<style scoped>\n",
       "    .dataframe tbody tr th:only-of-type {\n",
       "        vertical-align: middle;\n",
       "    }\n",
       "\n",
       "    .dataframe tbody tr th {\n",
       "        vertical-align: top;\n",
       "    }\n",
       "\n",
       "    .dataframe thead th {\n",
       "        text-align: right;\n",
       "    }\n",
       "</style>\n",
       "<table border=\"1\" class=\"dataframe\">\n",
       "  <thead>\n",
       "    <tr style=\"text-align: right;\">\n",
       "      <th></th>\n",
       "      <th>CustomerID</th>\n",
       "      <th>day_id</th>\n",
       "      <th>Quantity</th>\n",
       "      <th>UnitPrice</th>\n",
       "      <th>InvoiceDate</th>\n",
       "      <th>Total Price</th>\n",
       "    </tr>\n",
       "  </thead>\n",
       "  <tbody>\n",
       "    <tr>\n",
       "      <th>0</th>\n",
       "      <td>133</td>\n",
       "      <td>2020-12</td>\n",
       "      <td>5.0</td>\n",
       "      <td>121900.0000</td>\n",
       "      <td>2020-12-12</td>\n",
       "      <td>609500.0000</td>\n",
       "    </tr>\n",
       "    <tr>\n",
       "      <th>1</th>\n",
       "      <td>133</td>\n",
       "      <td>2021-01</td>\n",
       "      <td>4.0</td>\n",
       "      <td>27625.0000</td>\n",
       "      <td>2021-01-03</td>\n",
       "      <td>110500.0000</td>\n",
       "    </tr>\n",
       "    <tr>\n",
       "      <th>2</th>\n",
       "      <td>133</td>\n",
       "      <td>2021-02</td>\n",
       "      <td>1.0</td>\n",
       "      <td>40000.0000</td>\n",
       "      <td>2021-02-11</td>\n",
       "      <td>40000.0000</td>\n",
       "    </tr>\n",
       "    <tr>\n",
       "      <th>3</th>\n",
       "      <td>133</td>\n",
       "      <td>2021-03</td>\n",
       "      <td>4.0</td>\n",
       "      <td>36875.0000</td>\n",
       "      <td>2021-03-03</td>\n",
       "      <td>147500.0000</td>\n",
       "    </tr>\n",
       "    <tr>\n",
       "      <th>4</th>\n",
       "      <td>133</td>\n",
       "      <td>2021-05</td>\n",
       "      <td>1.0</td>\n",
       "      <td>171214.0625</td>\n",
       "      <td>2021-05-29</td>\n",
       "      <td>171214.0625</td>\n",
       "    </tr>\n",
       "  </tbody>\n",
       "</table>\n",
       "</div>"
      ],
      "text/plain": [
       "   CustomerID   day_id  Quantity    UnitPrice InvoiceDate  Total Price\n",
       "0         133  2020-12       5.0  121900.0000  2020-12-12  609500.0000\n",
       "1         133  2021-01       4.0   27625.0000  2021-01-03  110500.0000\n",
       "2         133  2021-02       1.0   40000.0000  2021-02-11   40000.0000\n",
       "3         133  2021-03       4.0   36875.0000  2021-03-03  147500.0000\n",
       "4         133  2021-05       1.0  171214.0625  2021-05-29  171214.0625"
      ]
     },
     "execution_count": 55,
     "metadata": {},
     "output_type": "execute_result"
    }
   ],
   "source": [
    "data1.head()"
   ]
  },
  {
   "cell_type": "code",
   "execution_count": 56,
   "id": "94179400-4ff2-47d4-89cd-abde2a78f43a",
   "metadata": {
    "scrolled": true
   },
   "outputs": [
    {
     "data": {
      "text/plain": [
       "InvoiceDate\n",
       "2020-12-12    1\n",
       "2021-01-03    1\n",
       "2021-02-11    1\n",
       "2021-03-03    1\n",
       "2021-05-29    1\n",
       "2021-06-11    1\n",
       "2021-07-06    1\n",
       "2021-12-22    1\n",
       "2022-01-28    1\n",
       "2022-02-01    1\n",
       "2022-03-01    1\n",
       "2022-04-01    1\n",
       "2022-05-01    1\n",
       "2022-06-01    1\n",
       "2022-07-06    1\n",
       "2022-08-01    1\n",
       "2022-09-01    1\n",
       "2022-10-01    1\n",
       "2022-11-01    1\n",
       "2022-12-02    1\n",
       "2023-01-02    1\n",
       "2023-02-01    1\n",
       "2023-03-04    1\n",
       "2023-04-01    1\n",
       "2023-05-02    1\n",
       "2023-06-01    1\n",
       "2023-07-01    1\n",
       "2023-08-05    1\n",
       "2023-09-01    1\n",
       "2023-10-02    1\n",
       "2023-11-09    1\n",
       "2023-12-01    1\n",
       "2024-01-01    1\n",
       "2024-07-09    1\n",
       "2024-08-01    1\n",
       "2024-09-02    1\n",
       "2024-10-01    1\n",
       "2024-11-01    1\n",
       "2024-12-01    1\n",
       "2025-01-02    1\n",
       "2025-02-02    1\n",
       "2025-03-01    1\n",
       "2025-04-01    1\n",
       "2025-05-01    1\n",
       "2025-07-08    1\n",
       "2025-08-01    1\n",
       "Name: count, dtype: int64"
      ]
     },
     "execution_count": 56,
     "metadata": {},
     "output_type": "execute_result"
    }
   ],
   "source": [
    "data1[data1[\"CustomerID\"]==133].InvoiceDate.value_counts()"
   ]
  },
  {
   "cell_type": "code",
   "execution_count": 57,
   "id": "fffa262f-4932-40af-96b2-167ac68c1592",
   "metadata": {
    "scrolled": true
   },
   "outputs": [
    {
     "data": {
      "text/plain": [
       "CustomerID\n",
       "235     58\n",
       "444     58\n",
       "322     58\n",
       "319     58\n",
       "478     58\n",
       "372     57\n",
       "211     57\n",
       "327     57\n",
       "2275    56\n",
       "1869    56\n",
       "248     56\n",
       "296     56\n",
       "311     56\n",
       "270     56\n",
       "258     56\n",
       "231     56\n",
       "172     56\n",
       "205     56\n",
       "175     56\n",
       "1831    56\n",
       "447     55\n",
       "2209    55\n",
       "2732    55\n",
       "1833    55\n",
       "3124    55\n",
       "2300    55\n",
       "2826    55\n",
       "2753    55\n",
       "2660    55\n",
       "2558    54\n",
       "2555    54\n",
       "277     54\n",
       "3460    54\n",
       "2576    54\n",
       "194     54\n",
       "2834    54\n",
       "3881    54\n",
       "378     54\n",
       "3848    54\n",
       "3658    54\n",
       "392     53\n",
       "3612    53\n",
       "4432    53\n",
       "2418    53\n",
       "299     53\n",
       "2313    53\n",
       "4668    53\n",
       "450     53\n",
       "2243    53\n",
       "4459    53\n",
       "Name: count, dtype: int64"
      ]
     },
     "execution_count": 57,
     "metadata": {},
     "output_type": "execute_result"
    }
   ],
   "source": [
    "data1.CustomerID.value_counts().nlargest(50)"
   ]
  },
  {
   "cell_type": "markdown",
   "id": "86c66c1f-71e5-47e9-9466-5199515b8498",
   "metadata": {},
   "source": [
    "### Creating Summary Dataset"
   ]
  },
  {
   "cell_type": "markdown",
   "id": "a3091502-19c5-4d27-a27d-f484157ebb6d",
   "metadata": {},
   "source": [
    "By using lifetimes we can also create our RFM data from the original dataset."
   ]
  },
  {
   "cell_type": "markdown",
   "id": "4875f5ea-de4c-40ac-b525-9d69dbbe78a8",
   "metadata": {},
   "source": [
    "- **Frequency** represents the number of repeat deposits the customer has made. This means that it’s one less than the total number of deposits. This is actually slightly wrong. It’s the count of time periods the customer had a deposit in. So if using days as units, then it’s the count of days the customer had a deposit on.\n",
    "\n",
    "- **Recency** represents the age of the customer when they made their most recent deposist. This is equal to the duration between a customer’s first deposit and their latest deposit. (Thus if they have made only 1 deposit, the recency is 0.)\n",
    "\n",
    "- **T** represents the age of the customer in whatever time units chosen (weekly, in the above dataset). This is equal to the duration between a customer’s first deposit and the end of the period under study.\n",
    "\n",
    "- **Monetary_Value** represents the average value of a given customer’s deposists. This is equal to the sum of all a customer’s deposits divided by the total number of deposits. Note that the denominator here is different than the frequency described above."
   ]
  },
  {
   "cell_type": "code",
   "execution_count": 58,
   "id": "7619dc72-dc5f-4dd5-9058-488e5c71d028",
   "metadata": {},
   "outputs": [],
   "source": [
    "# clv = lifetimes.utils.summary_data_from_transaction_data(df,'CustomerID','InvoiceDate','Total Price', observation_period_end='2011-12-09')"
   ]
  },
  {
   "cell_type": "code",
   "execution_count": 59,
   "id": "09525206-d51b-453c-911d-cf6222b9b64d",
   "metadata": {},
   "outputs": [
    {
     "data": {
      "text/plain": [
       "(Timestamp('2020-11-06 00:00:00'), Timestamp('2025-09-09 00:00:00'))"
      ]
     },
     "execution_count": 59,
     "metadata": {},
     "output_type": "execute_result"
    }
   ],
   "source": [
    "data1.InvoiceDate.min(), data1.InvoiceDate.max()"
   ]
  },
  {
   "cell_type": "code",
   "execution_count": 60,
   "id": "b7facef1-6358-4e2d-9966-f3eed81378df",
   "metadata": {},
   "outputs": [],
   "source": [
    "clv_data1 = lifetimes.utils.summary_data_from_transaction_data(data1, 'CustomerID','InvoiceDate','Total Price', observation_period_end=data1.InvoiceDate.max())"
   ]
  },
  {
   "cell_type": "code",
   "execution_count": 61,
   "id": "710b13fc-9302-42f2-8042-97fdae575e7a",
   "metadata": {
    "tags": []
   },
   "outputs": [],
   "source": [
    "# clv = clv[clv['frequency']>1] # we want only customers shopped more than 2 times"
   ]
  },
  {
   "cell_type": "code",
   "execution_count": 62,
   "id": "f4eb2210-6c35-4b89-8392-b8e5a2abb1d9",
   "metadata": {},
   "outputs": [],
   "source": [
    "clv_data1 = clv_data1[clv_data1['frequency']>1] # we want only customers shopped more than 2 times"
   ]
  },
  {
   "cell_type": "code",
   "execution_count": 63,
   "id": "41262f46-29d2-4a22-8725-174dd803721e",
   "metadata": {},
   "outputs": [
    {
     "data": {
      "text/html": [
       "<div>\n",
       "<style scoped>\n",
       "    .dataframe tbody tr th:only-of-type {\n",
       "        vertical-align: middle;\n",
       "    }\n",
       "\n",
       "    .dataframe tbody tr th {\n",
       "        vertical-align: top;\n",
       "    }\n",
       "\n",
       "    .dataframe thead th {\n",
       "        text-align: right;\n",
       "    }\n",
       "</style>\n",
       "<table border=\"1\" class=\"dataframe\">\n",
       "  <thead>\n",
       "    <tr style=\"text-align: right;\">\n",
       "      <th></th>\n",
       "      <th>frequency</th>\n",
       "      <th>recency</th>\n",
       "      <th>T</th>\n",
       "      <th>monetary_value</th>\n",
       "    </tr>\n",
       "    <tr>\n",
       "      <th>CustomerID</th>\n",
       "      <th></th>\n",
       "      <th></th>\n",
       "      <th></th>\n",
       "      <th></th>\n",
       "    </tr>\n",
       "  </thead>\n",
       "  <tbody>\n",
       "    <tr>\n",
       "      <th>133</th>\n",
       "      <td>45.0</td>\n",
       "      <td>1693.0</td>\n",
       "      <td>1732.0</td>\n",
       "      <td>1.882087e+06</td>\n",
       "    </tr>\n",
       "    <tr>\n",
       "      <th>141</th>\n",
       "      <td>7.0</td>\n",
       "      <td>291.0</td>\n",
       "      <td>1740.0</td>\n",
       "      <td>5.742857e+04</td>\n",
       "    </tr>\n",
       "    <tr>\n",
       "      <th>165</th>\n",
       "      <td>50.0</td>\n",
       "      <td>1607.0</td>\n",
       "      <td>1643.0</td>\n",
       "      <td>1.019320e+06</td>\n",
       "    </tr>\n",
       "    <tr>\n",
       "      <th>172</th>\n",
       "      <td>55.0</td>\n",
       "      <td>1664.0</td>\n",
       "      <td>1734.0</td>\n",
       "      <td>2.020182e+06</td>\n",
       "    </tr>\n",
       "    <tr>\n",
       "      <th>175</th>\n",
       "      <td>55.0</td>\n",
       "      <td>1735.0</td>\n",
       "      <td>1738.0</td>\n",
       "      <td>7.917043e+05</td>\n",
       "    </tr>\n",
       "  </tbody>\n",
       "</table>\n",
       "</div>"
      ],
      "text/plain": [
       "            frequency  recency       T  monetary_value\n",
       "CustomerID                                            \n",
       "133              45.0   1693.0  1732.0    1.882087e+06\n",
       "141               7.0    291.0  1740.0    5.742857e+04\n",
       "165              50.0   1607.0  1643.0    1.019320e+06\n",
       "172              55.0   1664.0  1734.0    2.020182e+06\n",
       "175              55.0   1735.0  1738.0    7.917043e+05"
      ]
     },
     "execution_count": 63,
     "metadata": {},
     "output_type": "execute_result"
    }
   ],
   "source": [
    "clv_data1.head()"
   ]
  },
  {
   "cell_type": "markdown",
   "id": "7dc7c9a7-e05a-41f0-b1ea-962cd2583c0a",
   "metadata": {},
   "source": [
    "### BG/NBD Model for Predicting Number of Deposits"
   ]
  },
  {
   "cell_type": "code",
   "execution_count": 64,
   "id": "70cad4ce-c9f1-49a2-bc2c-59e36f9bca96",
   "metadata": {},
   "outputs": [],
   "source": [
    "# bgf = BetaGeoFitter(penalizer_coef=0.001)\n",
    "# bgf.fit(clv['frequency'], clv['recency'], clv['T'])"
   ]
  },
  {
   "cell_type": "code",
   "execution_count": 65,
   "id": "fdecaf67-b1ce-494f-9a77-52c3e72e3936",
   "metadata": {},
   "outputs": [
    {
     "data": {
      "text/plain": [
       "<lifetimes.BetaGeoFitter: fitted with 22635 subjects, a: 0.36, alpha: 187.63, b: 3.90, r: 3.12>"
      ]
     },
     "execution_count": 65,
     "metadata": {},
     "output_type": "execute_result"
    }
   ],
   "source": [
    "bgf_data1 = BetaGeoFitter(penalizer_coef=0.001)\n",
    "bgf_data1.fit(clv_data1['frequency'], clv_data1['recency'], clv_data1['T'])"
   ]
  },
  {
   "cell_type": "markdown",
   "id": "ebf46ca8-f19f-4d23-ac79-863bc6a11172",
   "metadata": {},
   "source": [
    "#### Summary of BG/NBD Model"
   ]
  },
  {
   "cell_type": "code",
   "execution_count": 66,
   "id": "5d99054d-9cf2-4383-9aa3-32bcf6562ce6",
   "metadata": {},
   "outputs": [],
   "source": [
    "# bgf.summary"
   ]
  },
  {
   "cell_type": "code",
   "execution_count": 67,
   "id": "efec2393-4016-4e05-beeb-91c2cc1a510f",
   "metadata": {},
   "outputs": [
    {
     "data": {
      "text/html": [
       "<div>\n",
       "<style scoped>\n",
       "    .dataframe tbody tr th:only-of-type {\n",
       "        vertical-align: middle;\n",
       "    }\n",
       "\n",
       "    .dataframe tbody tr th {\n",
       "        vertical-align: top;\n",
       "    }\n",
       "\n",
       "    .dataframe thead th {\n",
       "        text-align: right;\n",
       "    }\n",
       "</style>\n",
       "<table border=\"1\" class=\"dataframe\">\n",
       "  <thead>\n",
       "    <tr style=\"text-align: right;\">\n",
       "      <th></th>\n",
       "      <th>coef</th>\n",
       "      <th>se(coef)</th>\n",
       "      <th>lower 95% bound</th>\n",
       "      <th>upper 95% bound</th>\n",
       "    </tr>\n",
       "  </thead>\n",
       "  <tbody>\n",
       "    <tr>\n",
       "      <th>r</th>\n",
       "      <td>3.124552</td>\n",
       "      <td>0.038607</td>\n",
       "      <td>3.048881</td>\n",
       "      <td>3.200223</td>\n",
       "    </tr>\n",
       "    <tr>\n",
       "      <th>alpha</th>\n",
       "      <td>187.634778</td>\n",
       "      <td>2.503260</td>\n",
       "      <td>182.728388</td>\n",
       "      <td>192.541167</td>\n",
       "    </tr>\n",
       "    <tr>\n",
       "      <th>a</th>\n",
       "      <td>0.358207</td>\n",
       "      <td>0.006486</td>\n",
       "      <td>0.345494</td>\n",
       "      <td>0.370920</td>\n",
       "    </tr>\n",
       "    <tr>\n",
       "      <th>b</th>\n",
       "      <td>3.900143</td>\n",
       "      <td>0.081409</td>\n",
       "      <td>3.740582</td>\n",
       "      <td>4.059703</td>\n",
       "    </tr>\n",
       "  </tbody>\n",
       "</table>\n",
       "</div>"
      ],
      "text/plain": [
       "             coef  se(coef)  lower 95% bound  upper 95% bound\n",
       "r        3.124552  0.038607         3.048881         3.200223\n",
       "alpha  187.634778  2.503260       182.728388       192.541167\n",
       "a        0.358207  0.006486         0.345494         0.370920\n",
       "b        3.900143  0.081409         3.740582         4.059703"
      ]
     },
     "execution_count": 67,
     "metadata": {},
     "output_type": "execute_result"
    }
   ],
   "source": [
    "bgf_data1.summary"
   ]
  },
  {
   "cell_type": "markdown",
   "id": "83920584-009b-44ca-bb85-0620ac64e062",
   "metadata": {},
   "source": [
    "### Visualizing our Frequency/Recency Matrix"
   ]
  },
  {
   "cell_type": "code",
   "execution_count": 68,
   "id": "2061c10d-5250-4b97-88fb-cf6a1e1a04fd",
   "metadata": {},
   "outputs": [
    {
     "data": {
      "image/png": "[encoded data removed]",
      "text/plain": [
       "<Figure size 1200x800 with 2 Axes>"
      ]
     },
     "metadata": {},
     "output_type": "display_data"
    }
   ],
   "source": [
    "plt.figure(figsize=(12,8))\n",
    "plot_frequency_recency_matrix(bgf_data1)\n",
    "plt.show()"
   ]
  },
  {
   "cell_type": "markdown",
   "id": "7b63d631-d5a9-41cb-b405-a0c82bab918d",
   "metadata": {},
   "source": [
    "<h3>  🎯 Key Interpretations </h3>\n",
    "\n",
    "1. <b> Bottom Right Corner (High Frequency, High Recency) — 🔥 Bright Yellow </b>\n",
    "\n",
    "   These are customers who:\n",
    "\n",
    "    1. Bought many times (high frequency)\n",
    "\n",
    "    2. Made their last purchase recently (high recency)\n",
    "\n",
    "    <b> Interpretation </b> : These are your most valuable and loyal customers — the model expects them to keep buying regularly.\n",
    "\n",
    "    Expected purchases per unit time: ~0.025–0.030\n",
    "\n",
    "2. <b> Top Left Corner (Low Frequency, Low Recency) — 🔮 Dark Purple </b>\n",
    "\n",
    "    Customers with:\n",
    "\n",
    "    1. Few or only one historical purchase\n",
    "\n",
    "    2. Long time since their last purchase\n",
    "\n",
    "    <b> Interpretation </b>: These are low-value, likely churned customers. Little to no expected future purchases.\n",
    "\n",
    "4. <b> Middle Regions — Gradient </b>\n",
    "\n",
    "    The transition from purple → blue → green → yellow shows:\n",
    "\n",
    "    1. How expected future transactions grow as frequency increases and recency improves.\n",
    "\n",
    "    2. This gradient reflects the model's probabilistic understanding of customer behavior."
   ]
  },
  {
   "cell_type": "code",
   "execution_count": 69,
   "id": "9a9dd4fd-63f9-455e-84e2-76c449b13d61",
   "metadata": {},
   "outputs": [],
   "source": [
    "# plt.figure(figsize=(8,6))\n",
    "# plot_frequency_recency_matrix(bgf_bm1)\n",
    "# plt.show()"
   ]
  },
  {
   "cell_type": "markdown",
   "id": "ba283f5b-7e4d-4613-bef0-7d5264770db7",
   "metadata": {},
   "source": [
    "#### Expected Number of Deposist in 6 Months"
   ]
  },
  {
   "cell_type": "code",
   "execution_count": 70,
   "id": "3354b457-cbb3-4cf8-9df8-e83adabf9475",
   "metadata": {},
   "outputs": [],
   "source": [
    "# t = 180 # 30 day period\n",
    "# clv['expected_purc_6_months'] = bgf.conditional_expected_number_of_purchases_up_to_time(t, clv['frequency'], clv['recency'], clv['T'])\n",
    "# clv.sort_values(by='expected_purc_6_months',ascending=False).head(5)"
   ]
  },
  {
   "cell_type": "code",
   "execution_count": 71,
   "id": "2eddcc2d-dba8-4971-a289-0945e3203cd3",
   "metadata": {},
   "outputs": [
    {
     "data": {
      "text/html": [
       "<div>\n",
       "<style scoped>\n",
       "    .dataframe tbody tr th:only-of-type {\n",
       "        vertical-align: middle;\n",
       "    }\n",
       "\n",
       "    .dataframe tbody tr th {\n",
       "        vertical-align: top;\n",
       "    }\n",
       "\n",
       "    .dataframe thead th {\n",
       "        text-align: right;\n",
       "    }\n",
       "</style>\n",
       "<table border=\"1\" class=\"dataframe\">\n",
       "  <thead>\n",
       "    <tr style=\"text-align: right;\">\n",
       "      <th></th>\n",
       "      <th>frequency</th>\n",
       "      <th>recency</th>\n",
       "      <th>T</th>\n",
       "      <th>monetary_value</th>\n",
       "      <th>expected_deposits_3_months</th>\n",
       "    </tr>\n",
       "    <tr>\n",
       "      <th>CustomerID</th>\n",
       "      <th></th>\n",
       "      <th></th>\n",
       "      <th></th>\n",
       "      <th></th>\n",
       "      <th></th>\n",
       "    </tr>\n",
       "  </thead>\n",
       "  <tbody>\n",
       "    <tr>\n",
       "      <th>478</th>\n",
       "      <td>57.0</td>\n",
       "      <td>1712.0</td>\n",
       "      <td>1715.0</td>\n",
       "      <td>9.423713e+05</td>\n",
       "      <td>0.094156</td>\n",
       "    </tr>\n",
       "    <tr>\n",
       "      <th>444</th>\n",
       "      <td>57.0</td>\n",
       "      <td>1709.0</td>\n",
       "      <td>1716.0</td>\n",
       "      <td>1.162165e+06</td>\n",
       "      <td>0.094024</td>\n",
       "    </tr>\n",
       "    <tr>\n",
       "      <th>211</th>\n",
       "      <td>56.0</td>\n",
       "      <td>1679.0</td>\n",
       "      <td>1685.0</td>\n",
       "      <td>1.208193e+06</td>\n",
       "      <td>0.094001</td>\n",
       "    </tr>\n",
       "    <tr>\n",
       "      <th>2275</th>\n",
       "      <td>55.0</td>\n",
       "      <td>1647.0</td>\n",
       "      <td>1655.0</td>\n",
       "      <td>6.699467e+05</td>\n",
       "      <td>0.093858</td>\n",
       "    </tr>\n",
       "    <tr>\n",
       "      <th>3124</th>\n",
       "      <td>54.0</td>\n",
       "      <td>1619.0</td>\n",
       "      <td>1627.0</td>\n",
       "      <td>4.333360e+05</td>\n",
       "      <td>0.093653</td>\n",
       "    </tr>\n",
       "  </tbody>\n",
       "</table>\n",
       "</div>"
      ],
      "text/plain": [
       "            frequency  recency       T  monetary_value  expected_deposits_3_months\n",
       "CustomerID                                                                        \n",
       "478              57.0   1712.0  1715.0    9.423713e+05                    0.094156\n",
       "444              57.0   1709.0  1716.0    1.162165e+06                    0.094024\n",
       "211              56.0   1679.0  1685.0    1.208193e+06                    0.094001\n",
       "2275             55.0   1647.0  1655.0    6.699467e+05                    0.093858\n",
       "3124             54.0   1619.0  1627.0    4.333360e+05                    0.093653"
      ]
     },
     "execution_count": 71,
     "metadata": {},
     "output_type": "execute_result"
    }
   ],
   "source": [
    "t = 3 # 30 day period\n",
    "clv_data1['expected_deposits_3_months'] = bgf_data1.conditional_expected_number_of_purchases_up_to_time(t, clv_data1['frequency'], clv_data1['recency'], clv_data1['T'])\n",
    "clv_data1.sort_values(by='expected_deposits_3_months',ascending=False).head(5)"
   ]
  },
  {
   "cell_type": "code",
   "execution_count": 72,
   "id": "b98e6434-285a-40a8-be82-665ac8cabf6d",
   "metadata": {},
   "outputs": [
    {
     "data": {
      "text/plain": [
       "(np.float64(3.781380192915868e-09), np.float64(0.09415624544139607))"
      ]
     },
     "execution_count": 72,
     "metadata": {},
     "output_type": "execute_result"
    }
   ],
   "source": [
    "clv_data1.reset_index().expected_deposits_3_months.min(), clv_data1.reset_index().expected_deposits_3_months.max()"
   ]
  },
  {
   "cell_type": "markdown",
   "id": "97af4ba1-168f-43f0-a694-92e843368284",
   "metadata": {},
   "source": [
    "#### Expected Number of Deposits ın 12 Months"
   ]
  },
  {
   "cell_type": "code",
   "execution_count": 73,
   "id": "46b4c15d-d8f5-41f0-8c04-ead29a85573a",
   "metadata": {},
   "outputs": [],
   "source": [
    "#t = 360\n",
    "#clv['expected_deposits_12_months'] = bgf.conditional_expected_number_of_purchases_up_to_time(t, clv['frequency'], clv['recency'], clv['T'])\n",
    "#clv.sort_values(by='expected_deposits_12_months',ascending=False).head(5)"
   ]
  },
  {
   "cell_type": "markdown",
   "id": "f08eca53-d43d-4780-87b5-ee9997e1728f",
   "metadata": {},
   "source": [
    "### Gamma - Gamma Model"
   ]
  },
  {
   "cell_type": "markdown",
   "id": "8c2fc1cf-12aa-4272-9433-5a536193b885",
   "metadata": {},
   "source": [
    "The Gamma-Gamma Model can predict the most likely value per transaction in the future"
   ]
  },
  {
   "cell_type": "markdown",
   "id": "367dceca-0a96-4c37-b013-c3ab299594d8",
   "metadata": {},
   "source": [
    "#### Assumption"
   ]
  },
  {
   "cell_type": "markdown",
   "id": "fbe2e51c-4ad9-481d-9033-3c782de1e8f1",
   "metadata": {},
   "source": [
    "The model we are going to use to estimate the CLV for our userbase is called the Gamma-Gamma submodel, which relies upon an important assumption. The Gamma-Gamma submodel, in fact, assumes that there is no relationship between the monetary value and the deposit frequency. In practice we need to check whether the Pearson correlation between the two vectors is close to 0 in order to use this model."
   ]
  },
  {
   "cell_type": "code",
   "execution_count": 74,
   "id": "0d52d747-a7f6-4ef1-9f0a-a36eb9d358c3",
   "metadata": {},
   "outputs": [],
   "source": [
    "# clv[['frequency','monetary_value']].corr()"
   ]
  },
  {
   "cell_type": "markdown",
   "id": "33f74ab1-e808-4a0e-9bdd-ba0cd07e82d3",
   "metadata": {},
   "source": [
    "At this point we can train our Gamma-Gamma submodel and predict the conditional, expected average lifetime value of our customers."
   ]
  },
  {
   "cell_type": "code",
   "execution_count": 75,
   "id": "384b7fe6-4f90-4e2c-9f64-a574729b540b",
   "metadata": {},
   "outputs": [
    {
     "data": {
      "text/html": [
       "<div>\n",
       "<style scoped>\n",
       "    .dataframe tbody tr th:only-of-type {\n",
       "        vertical-align: middle;\n",
       "    }\n",
       "\n",
       "    .dataframe tbody tr th {\n",
       "        vertical-align: top;\n",
       "    }\n",
       "\n",
       "    .dataframe thead th {\n",
       "        text-align: right;\n",
       "    }\n",
       "</style>\n",
       "<table border=\"1\" class=\"dataframe\">\n",
       "  <thead>\n",
       "    <tr style=\"text-align: right;\">\n",
       "      <th></th>\n",
       "      <th>frequency</th>\n",
       "      <th>monetary_value</th>\n",
       "    </tr>\n",
       "  </thead>\n",
       "  <tbody>\n",
       "    <tr>\n",
       "      <th>frequency</th>\n",
       "      <td>1.000000</td>\n",
       "      <td>0.328558</td>\n",
       "    </tr>\n",
       "    <tr>\n",
       "      <th>monetary_value</th>\n",
       "      <td>0.328558</td>\n",
       "      <td>1.000000</td>\n",
       "    </tr>\n",
       "  </tbody>\n",
       "</table>\n",
       "</div>"
      ],
      "text/plain": [
       "                frequency  monetary_value\n",
       "frequency        1.000000        0.328558\n",
       "monetary_value   0.328558        1.000000"
      ]
     },
     "execution_count": 75,
     "metadata": {},
     "output_type": "execute_result"
    }
   ],
   "source": [
    "clv_data1[['frequency','monetary_value']].corr()"
   ]
  },
  {
   "cell_type": "code",
   "execution_count": 76,
   "id": "c4d8e682-d956-486c-9770-d5d96a2b839d",
   "metadata": {},
   "outputs": [],
   "source": [
    "# ggf = GammaGammaFitter(penalizer_coef=0.01)\n",
    "# ggf.fit(clv[\"frequency\"],\n",
    "#         clv[\"monetary_value\"])"
   ]
  },
  {
   "cell_type": "code",
   "execution_count": 77,
   "id": "7b1e7ef7-4ed4-471d-8ee8-0347b8302651",
   "metadata": {},
   "outputs": [
    {
     "data": {
      "text/plain": [
       "<lifetimes.GammaGammaFitter: fitted with 22635 subjects, p: 2.40, q: 0.11, v: 2.36>"
      ]
     },
     "execution_count": 77,
     "metadata": {},
     "output_type": "execute_result"
    }
   ],
   "source": [
    "ggf_data1 = GammaGammaFitter(penalizer_coef=0.01)\n",
    "ggf_data1.fit(clv_data1[\"frequency\"],\n",
    "              clv_data1[\"monetary_value\"])"
   ]
  },
  {
   "cell_type": "markdown",
   "id": "1c18b83c-07f3-4b8f-bb8a-25c04ab0d5af",
   "metadata": {},
   "source": [
    "### 6 months Customer Lifetime Value"
   ]
  },
  {
   "cell_type": "code",
   "execution_count": 78,
   "id": "73ba09b2-475b-4eb4-b084-bca84bd91e34",
   "metadata": {},
   "outputs": [],
   "source": [
    "# clv['6_Months_CLV']=ggf.customer_lifetime_value(bgf,\n",
    "#                                    clv[\"frequency\"],\n",
    "#                                    clv[\"recency\"],\n",
    "#                                    clv[\"T\"],\n",
    "#                                    clv[\"monetary_value\"],\n",
    "#                                    time=6,\n",
    "#                                    freq='D',\n",
    "#                                    discount_rate=0.01)"
   ]
  },
  {
   "cell_type": "code",
   "execution_count": 79,
   "id": "8c5b5b31-1a90-4d23-824d-c005e3dc6a75",
   "metadata": {},
   "outputs": [],
   "source": [
    "# clv.sort_values('6_Months_CLV',ascending=False).head()"
   ]
  },
  {
   "cell_type": "code",
   "execution_count": 80,
   "id": "3150bf5e-ce9f-4b18-98d3-1e22c4c1cf7a",
   "metadata": {},
   "outputs": [],
   "source": [
    "clv_data1['3_Months_CLV']=ggf_data1.customer_lifetime_value(bgf_data1,\n",
    "                                   clv_data1[\"frequency\"],\n",
    "                                   clv_data1[\"recency\"],\n",
    "                                   clv_data1[\"T\"],\n",
    "                                   clv_data1[\"monetary_value\"],\n",
    "                                   time=3,\n",
    "                                   freq='D',\n",
    "                                   discount_rate=0.01)"
   ]
  },
  {
   "cell_type": "code",
   "execution_count": 81,
   "id": "31a7e1e1-ca77-45c0-8fb4-41d32c7ac2d4",
   "metadata": {},
   "outputs": [
    {
     "data": {
      "text/html": [
       "<div>\n",
       "<style scoped>\n",
       "    .dataframe tbody tr th:only-of-type {\n",
       "        vertical-align: middle;\n",
       "    }\n",
       "\n",
       "    .dataframe tbody tr th {\n",
       "        vertical-align: top;\n",
       "    }\n",
       "\n",
       "    .dataframe thead th {\n",
       "        text-align: right;\n",
       "    }\n",
       "</style>\n",
       "<table border=\"1\" class=\"dataframe\">\n",
       "  <thead>\n",
       "    <tr style=\"text-align: right;\">\n",
       "      <th></th>\n",
       "      <th>frequency</th>\n",
       "      <th>recency</th>\n",
       "      <th>T</th>\n",
       "      <th>monetary_value</th>\n",
       "      <th>expected_deposits_3_months</th>\n",
       "      <th>3_Months_CLV</th>\n",
       "    </tr>\n",
       "    <tr>\n",
       "      <th>CustomerID</th>\n",
       "      <th></th>\n",
       "      <th></th>\n",
       "      <th></th>\n",
       "      <th></th>\n",
       "      <th></th>\n",
       "      <th></th>\n",
       "    </tr>\n",
       "  </thead>\n",
       "  <tbody>\n",
       "    <tr>\n",
       "      <th>169193</th>\n",
       "      <td>31.0</td>\n",
       "      <td>932.0</td>\n",
       "      <td>940.0</td>\n",
       "      <td>3.302256e+06</td>\n",
       "      <td>0.089537</td>\n",
       "      <td>8.684280e+06</td>\n",
       "    </tr>\n",
       "    <tr>\n",
       "      <th>161171</th>\n",
       "      <td>31.0</td>\n",
       "      <td>971.0</td>\n",
       "      <td>979.0</td>\n",
       "      <td>2.981927e+06</td>\n",
       "      <td>0.086554</td>\n",
       "      <td>7.583948e+06</td>\n",
       "    </tr>\n",
       "    <tr>\n",
       "      <th>474325</th>\n",
       "      <td>7.0</td>\n",
       "      <td>186.0</td>\n",
       "      <td>194.0</td>\n",
       "      <td>3.198037e+06</td>\n",
       "      <td>0.076067</td>\n",
       "      <td>7.278632e+06</td>\n",
       "    </tr>\n",
       "    <tr>\n",
       "      <th>18195</th>\n",
       "      <td>43.0</td>\n",
       "      <td>1298.0</td>\n",
       "      <td>1306.0</td>\n",
       "      <td>2.573820e+06</td>\n",
       "      <td>0.091692</td>\n",
       "      <td>6.930333e+06</td>\n",
       "    </tr>\n",
       "    <tr>\n",
       "      <th>30680</th>\n",
       "      <td>35.0</td>\n",
       "      <td>1044.0</td>\n",
       "      <td>1082.0</td>\n",
       "      <td>2.683137e+06</td>\n",
       "      <td>0.087414</td>\n",
       "      <td>6.889334e+06</td>\n",
       "    </tr>\n",
       "  </tbody>\n",
       "</table>\n",
       "</div>"
      ],
      "text/plain": [
       "            frequency  recency       T  monetary_value  expected_deposits_3_months  3_Months_CLV\n",
       "CustomerID                                                                                      \n",
       "169193           31.0    932.0   940.0    3.302256e+06                    0.089537  8.684280e+06\n",
       "161171           31.0    971.0   979.0    2.981927e+06                    0.086554  7.583948e+06\n",
       "474325            7.0    186.0   194.0    3.198037e+06                    0.076067  7.278632e+06\n",
       "18195            43.0   1298.0  1306.0    2.573820e+06                    0.091692  6.930333e+06\n",
       "30680            35.0   1044.0  1082.0    2.683137e+06                    0.087414  6.889334e+06"
      ]
     },
     "execution_count": 81,
     "metadata": {},
     "output_type": "execute_result"
    }
   ],
   "source": [
    "clv_data1.sort_values('3_Months_CLV',ascending=False).head()"
   ]
  },
  {
   "cell_type": "markdown",
   "id": "61b0eb52-ee55-4ad0-b09e-f73f74aa1d80",
   "metadata": {},
   "source": [
    "#### Segmentation Customers by 6 Months CLV"
   ]
  },
  {
   "cell_type": "code",
   "execution_count": 82,
   "id": "b1bd90a1-0b8c-4163-b8d2-7ad5982189af",
   "metadata": {},
   "outputs": [],
   "source": [
    "# clv['Segment'] =  pd.qcut(clv['6_Months_CLV'],4,labels = ['Hibernating','Need Attention',\n",
    "#                                                           'Loyal Customers','Champions'])"
   ]
  },
  {
   "cell_type": "code",
   "execution_count": 83,
   "id": "f7b922c6-f15b-41f7-8a17-7a9f3a61798f",
   "metadata": {},
   "outputs": [],
   "source": [
    "# clv.head()"
   ]
  },
  {
   "cell_type": "code",
   "execution_count": 84,
   "id": "267656a6-774b-49e3-8a8d-47a54743db06",
   "metadata": {},
   "outputs": [],
   "source": [
    "clv_data1['Segment'] =  pd.qcut(clv_data1['3_Months_CLV'], 5, labels = ['Ready To Leave', 'Hibernating','Need Attention',\n",
    "                                                                        'Loyal Customers','Champions'])"
   ]
  },
  {
   "cell_type": "code",
   "execution_count": 85,
   "id": "3c42c159-d1bd-4988-9316-d4e357a04857",
   "metadata": {},
   "outputs": [
    {
     "data": {
      "text/html": [
       "<div>\n",
       "<style scoped>\n",
       "    .dataframe tbody tr th:only-of-type {\n",
       "        vertical-align: middle;\n",
       "    }\n",
       "\n",
       "    .dataframe tbody tr th {\n",
       "        vertical-align: top;\n",
       "    }\n",
       "\n",
       "    .dataframe thead th {\n",
       "        text-align: right;\n",
       "    }\n",
       "</style>\n",
       "<table border=\"1\" class=\"dataframe\">\n",
       "  <thead>\n",
       "    <tr style=\"text-align: right;\">\n",
       "      <th></th>\n",
       "      <th>frequency</th>\n",
       "      <th>recency</th>\n",
       "      <th>T</th>\n",
       "      <th>monetary_value</th>\n",
       "      <th>expected_deposits_3_months</th>\n",
       "      <th>3_Months_CLV</th>\n",
       "      <th>Segment</th>\n",
       "    </tr>\n",
       "    <tr>\n",
       "      <th>CustomerID</th>\n",
       "      <th></th>\n",
       "      <th></th>\n",
       "      <th></th>\n",
       "      <th></th>\n",
       "      <th></th>\n",
       "      <th></th>\n",
       "      <th></th>\n",
       "    </tr>\n",
       "  </thead>\n",
       "  <tbody>\n",
       "    <tr>\n",
       "      <th>133</th>\n",
       "      <td>45.0</td>\n",
       "      <td>1693.0</td>\n",
       "      <td>1732.0</td>\n",
       "      <td>1.882087e+06</td>\n",
       "      <td>7.370781e-02</td>\n",
       "      <td>4.081203e+06</td>\n",
       "      <td>Champions</td>\n",
       "    </tr>\n",
       "    <tr>\n",
       "      <th>141</th>\n",
       "      <td>7.0</td>\n",
       "      <td>291.0</td>\n",
       "      <td>1740.0</td>\n",
       "      <td>5.742857e+04</td>\n",
       "      <td>3.260542e-07</td>\n",
       "      <td>5.768706e-01</td>\n",
       "      <td>Ready To Leave</td>\n",
       "    </tr>\n",
       "    <tr>\n",
       "      <th>165</th>\n",
       "      <td>50.0</td>\n",
       "      <td>1607.0</td>\n",
       "      <td>1643.0</td>\n",
       "      <td>1.019320e+06</td>\n",
       "      <td>8.537329e-02</td>\n",
       "      <td>2.557072e+06</td>\n",
       "      <td>Champions</td>\n",
       "    </tr>\n",
       "    <tr>\n",
       "      <th>172</th>\n",
       "      <td>55.0</td>\n",
       "      <td>1664.0</td>\n",
       "      <td>1734.0</td>\n",
       "      <td>2.020182e+06</td>\n",
       "      <td>8.611209e-02</td>\n",
       "      <td>5.110202e+06</td>\n",
       "      <td>Champions</td>\n",
       "    </tr>\n",
       "    <tr>\n",
       "      <th>175</th>\n",
       "      <td>55.0</td>\n",
       "      <td>1735.0</td>\n",
       "      <td>1738.0</td>\n",
       "      <td>7.917043e+05</td>\n",
       "      <td>8.991960e-02</td>\n",
       "      <td>2.091259e+06</td>\n",
       "      <td>Champions</td>\n",
       "    </tr>\n",
       "  </tbody>\n",
       "</table>\n",
       "</div>"
      ],
      "text/plain": [
       "            frequency  recency       T  monetary_value  expected_deposits_3_months  3_Months_CLV         Segment\n",
       "CustomerID                                                                                                      \n",
       "133              45.0   1693.0  1732.0    1.882087e+06                7.370781e-02  4.081203e+06       Champions\n",
       "141               7.0    291.0  1740.0    5.742857e+04                3.260542e-07  5.768706e-01  Ready To Leave\n",
       "165              50.0   1607.0  1643.0    1.019320e+06                8.537329e-02  2.557072e+06       Champions\n",
       "172              55.0   1664.0  1734.0    2.020182e+06                8.611209e-02  5.110202e+06       Champions\n",
       "175              55.0   1735.0  1738.0    7.917043e+05                8.991960e-02  2.091259e+06       Champions"
      ]
     },
     "execution_count": 85,
     "metadata": {},
     "output_type": "execute_result"
    }
   ],
   "source": [
    "clv_data1.head()"
   ]
  },
  {
   "cell_type": "code",
   "execution_count": 86,
   "id": "1843be37-7060-40fe-b0a7-aaade2ad6e23",
   "metadata": {},
   "outputs": [
    {
     "data": {
      "text/html": [
       "<div>\n",
       "<style scoped>\n",
       "    .dataframe tbody tr th:only-of-type {\n",
       "        vertical-align: middle;\n",
       "    }\n",
       "\n",
       "    .dataframe tbody tr th {\n",
       "        vertical-align: top;\n",
       "    }\n",
       "\n",
       "    .dataframe thead th {\n",
       "        text-align: right;\n",
       "    }\n",
       "</style>\n",
       "<table border=\"1\" class=\"dataframe\">\n",
       "  <thead>\n",
       "    <tr style=\"text-align: right;\">\n",
       "      <th></th>\n",
       "      <th>CustomerID</th>\n",
       "      <th>frequency</th>\n",
       "      <th>recency</th>\n",
       "      <th>T</th>\n",
       "      <th>monetary_value</th>\n",
       "      <th>expected_deposits_3_months</th>\n",
       "      <th>3_Months_CLV</th>\n",
       "      <th>Segment</th>\n",
       "    </tr>\n",
       "  </thead>\n",
       "  <tbody>\n",
       "    <tr>\n",
       "      <th>5929</th>\n",
       "      <td>32619</td>\n",
       "      <td>2.0</td>\n",
       "      <td>60.0</td>\n",
       "      <td>1129.0</td>\n",
       "      <td>74500.000000</td>\n",
       "      <td>0.00003</td>\n",
       "      <td>8.089885e+01</td>\n",
       "      <td>Ready To Leave</td>\n",
       "    </tr>\n",
       "    <tr>\n",
       "      <th>3264</th>\n",
       "      <td>16123</td>\n",
       "      <td>36.0</td>\n",
       "      <td>1328.0</td>\n",
       "      <td>1333.0</td>\n",
       "      <td>154524.777778</td>\n",
       "      <td>0.07636</td>\n",
       "      <td>3.471523e+05</td>\n",
       "      <td>Champions</td>\n",
       "    </tr>\n",
       "    <tr>\n",
       "      <th>4953</th>\n",
       "      <td>27439</td>\n",
       "      <td>31.0</td>\n",
       "      <td>1085.0</td>\n",
       "      <td>1123.0</td>\n",
       "      <td>843866.235920</td>\n",
       "      <td>0.07589</td>\n",
       "      <td>1.884362e+06</td>\n",
       "      <td>Champions</td>\n",
       "    </tr>\n",
       "  </tbody>\n",
       "</table>\n",
       "</div>"
      ],
      "text/plain": [
       "      CustomerID  frequency  recency       T  monetary_value  expected_deposits_3_months  3_Months_CLV         Segment\n",
       "5929       32619        2.0     60.0  1129.0    74500.000000                     0.00003  8.089885e+01  Ready To Leave\n",
       "3264       16123       36.0   1328.0  1333.0   154524.777778                     0.07636  3.471523e+05       Champions\n",
       "4953       27439       31.0   1085.0  1123.0   843866.235920                     0.07589  1.884362e+06       Champions"
      ]
     },
     "execution_count": 86,
     "metadata": {},
     "output_type": "execute_result"
    }
   ],
   "source": [
    "clv_data1 = clv_data1.reset_index()\n",
    "clv_data1.sample(3)"
   ]
  },
  {
   "cell_type": "markdown",
   "id": "45a4659d-ac27-4e13-a613-6a2ac6120d17",
   "metadata": {},
   "source": [
    "### Final Dataframe"
   ]
  },
  {
   "cell_type": "code",
   "execution_count": 87,
   "id": "1ef9f89f-2ba0-468a-9e30-81bdf67f3ac3",
   "metadata": {},
   "outputs": [],
   "source": [
    "# clv.groupby('Segment').mean()"
   ]
  },
  {
   "cell_type": "code",
   "execution_count": 88,
   "id": "4fdf5852-d752-4f07-84bd-479d82ba7d3a",
   "metadata": {},
   "outputs": [
    {
     "data": {
      "text/html": [
       "<div>\n",
       "<style scoped>\n",
       "    .dataframe tbody tr th:only-of-type {\n",
       "        vertical-align: middle;\n",
       "    }\n",
       "\n",
       "    .dataframe tbody tr th {\n",
       "        vertical-align: top;\n",
       "    }\n",
       "\n",
       "    .dataframe thead th {\n",
       "        text-align: right;\n",
       "    }\n",
       "</style>\n",
       "<table border=\"1\" class=\"dataframe\">\n",
       "  <thead>\n",
       "    <tr style=\"text-align: right;\">\n",
       "      <th></th>\n",
       "      <th>Segment</th>\n",
       "      <th>CustomerID</th>\n",
       "    </tr>\n",
       "  </thead>\n",
       "  <tbody>\n",
       "    <tr>\n",
       "      <th>0</th>\n",
       "      <td>Ready To Leave</td>\n",
       "      <td>4527</td>\n",
       "    </tr>\n",
       "    <tr>\n",
       "      <th>1</th>\n",
       "      <td>Hibernating</td>\n",
       "      <td>4527</td>\n",
       "    </tr>\n",
       "    <tr>\n",
       "      <th>2</th>\n",
       "      <td>Need Attention</td>\n",
       "      <td>4527</td>\n",
       "    </tr>\n",
       "    <tr>\n",
       "      <th>3</th>\n",
       "      <td>Loyal Customers</td>\n",
       "      <td>4527</td>\n",
       "    </tr>\n",
       "    <tr>\n",
       "      <th>4</th>\n",
       "      <td>Champions</td>\n",
       "      <td>4527</td>\n",
       "    </tr>\n",
       "  </tbody>\n",
       "</table>\n",
       "</div>"
      ],
      "text/plain": [
       "           Segment  CustomerID\n",
       "0   Ready To Leave        4527\n",
       "1      Hibernating        4527\n",
       "2   Need Attention        4527\n",
       "3  Loyal Customers        4527\n",
       "4        Champions        4527"
      ]
     },
     "execution_count": 88,
     "metadata": {},
     "output_type": "execute_result"
    }
   ],
   "source": [
    "clv_data1.groupby('Segment').agg({\"CustomerID\":'count'}).reset_index()"
   ]
  },
  {
   "cell_type": "markdown",
   "id": "a25a8a47-5dfb-45dc-8012-99545668ad4f",
   "metadata": {},
   "source": [
    "### Group by Segment"
   ]
  },
  {
   "cell_type": "code",
   "execution_count": 89,
   "id": "69934597-fbad-46f9-a7eb-6fcaf1204eb0",
   "metadata": {},
   "outputs": [],
   "source": [
    "# clv.groupby('Segment').mean()"
   ]
  },
  {
   "cell_type": "code",
   "execution_count": 90,
   "id": "3a427f2e-c757-4307-8acd-f1b6b525e042",
   "metadata": {},
   "outputs": [
    {
     "data": {
      "text/html": [
       "<div>\n",
       "<style scoped>\n",
       "    .dataframe tbody tr th:only-of-type {\n",
       "        vertical-align: middle;\n",
       "    }\n",
       "\n",
       "    .dataframe tbody tr th {\n",
       "        vertical-align: top;\n",
       "    }\n",
       "\n",
       "    .dataframe thead th {\n",
       "        text-align: right;\n",
       "    }\n",
       "</style>\n",
       "<table border=\"1\" class=\"dataframe\">\n",
       "  <thead>\n",
       "    <tr style=\"text-align: right;\">\n",
       "      <th></th>\n",
       "      <th>CustomerID</th>\n",
       "      <th>frequency</th>\n",
       "      <th>recency</th>\n",
       "      <th>T</th>\n",
       "      <th>monetary_value</th>\n",
       "      <th>expected_deposits_3_months</th>\n",
       "      <th>3_Months_CLV</th>\n",
       "    </tr>\n",
       "    <tr>\n",
       "      <th>Segment</th>\n",
       "      <th></th>\n",
       "      <th></th>\n",
       "      <th></th>\n",
       "      <th></th>\n",
       "      <th></th>\n",
       "      <th></th>\n",
       "      <th></th>\n",
       "    </tr>\n",
       "  </thead>\n",
       "  <tbody>\n",
       "    <tr>\n",
       "      <th>Ready To Leave</th>\n",
       "      <td>102350.0</td>\n",
       "      <td>5.0</td>\n",
       "      <td>278.0</td>\n",
       "      <td>1087.0</td>\n",
       "      <td>95819.0</td>\n",
       "      <td>0.0</td>\n",
       "      <td>338.0</td>\n",
       "    </tr>\n",
       "    <tr>\n",
       "      <th>Hibernating</th>\n",
       "      <td>172622.0</td>\n",
       "      <td>5.0</td>\n",
       "      <td>527.0</td>\n",
       "      <td>864.0</td>\n",
       "      <td>65925.0</td>\n",
       "      <td>0.0</td>\n",
       "      <td>5582.0</td>\n",
       "    </tr>\n",
       "    <tr>\n",
       "      <th>Need Attention</th>\n",
       "      <td>200772.0</td>\n",
       "      <td>8.0</td>\n",
       "      <td>620.0</td>\n",
       "      <td>782.0</td>\n",
       "      <td>78564.0</td>\n",
       "      <td>0.0</td>\n",
       "      <td>28170.0</td>\n",
       "    </tr>\n",
       "    <tr>\n",
       "      <th>Loyal Customers</th>\n",
       "      <td>206180.0</td>\n",
       "      <td>13.0</td>\n",
       "      <td>693.0</td>\n",
       "      <td>782.0</td>\n",
       "      <td>153294.0</td>\n",
       "      <td>0.0</td>\n",
       "      <td>133811.0</td>\n",
       "    </tr>\n",
       "    <tr>\n",
       "      <th>Champions</th>\n",
       "      <td>187796.0</td>\n",
       "      <td>21.0</td>\n",
       "      <td>802.0</td>\n",
       "      <td>846.0</td>\n",
       "      <td>602107.0</td>\n",
       "      <td>0.0</td>\n",
       "      <td>1092648.0</td>\n",
       "    </tr>\n",
       "  </tbody>\n",
       "</table>\n",
       "</div>"
      ],
      "text/plain": [
       "                 CustomerID  frequency  recency       T  monetary_value  expected_deposits_3_months  3_Months_CLV\n",
       "Segment                                                                                                          \n",
       "Ready To Leave     102350.0        5.0    278.0  1087.0         95819.0                         0.0         338.0\n",
       "Hibernating        172622.0        5.0    527.0   864.0         65925.0                         0.0        5582.0\n",
       "Need Attention     200772.0        8.0    620.0   782.0         78564.0                         0.0       28170.0\n",
       "Loyal Customers    206180.0       13.0    693.0   782.0        153294.0                         0.0      133811.0\n",
       "Champions          187796.0       21.0    802.0   846.0        602107.0                         0.0     1092648.0"
      ]
     },
     "execution_count": 90,
     "metadata": {},
     "output_type": "execute_result"
    }
   ],
   "source": [
    "clv_data1.groupby('Segment').mean().round(0)"
   ]
  },
  {
   "cell_type": "code",
   "execution_count": 91,
   "id": "1b855d3d-1475-45f2-b415-65a2a3794aec",
   "metadata": {},
   "outputs": [
    {
     "data": {
      "text/html": [
       "<div>\n",
       "<style scoped>\n",
       "    .dataframe tbody tr th:only-of-type {\n",
       "        vertical-align: middle;\n",
       "    }\n",
       "\n",
       "    .dataframe tbody tr th {\n",
       "        vertical-align: top;\n",
       "    }\n",
       "\n",
       "    .dataframe thead th {\n",
       "        text-align: right;\n",
       "    }\n",
       "</style>\n",
       "<table border=\"1\" class=\"dataframe\">\n",
       "  <thead>\n",
       "    <tr style=\"text-align: right;\">\n",
       "      <th></th>\n",
       "      <th>CustomerID</th>\n",
       "      <th>frequency</th>\n",
       "      <th>recency</th>\n",
       "      <th>T</th>\n",
       "      <th>monetary_value</th>\n",
       "      <th>expected_deposits_3_months</th>\n",
       "      <th>3_Months_CLV</th>\n",
       "      <th>Segment</th>\n",
       "    </tr>\n",
       "  </thead>\n",
       "  <tbody>\n",
       "    <tr>\n",
       "      <th>6271</th>\n",
       "      <td>33748</td>\n",
       "      <td>8.0</td>\n",
       "      <td>757.0</td>\n",
       "      <td>765.0</td>\n",
       "      <td>61500.0</td>\n",
       "      <td>0.033794</td>\n",
       "      <td>63094.195413</td>\n",
       "      <td>Loyal Customers</td>\n",
       "    </tr>\n",
       "  </tbody>\n",
       "</table>\n",
       "</div>"
      ],
      "text/plain": [
       "      CustomerID  frequency  recency      T  monetary_value  expected_deposits_3_months  3_Months_CLV          Segment\n",
       "6271       33748        8.0    757.0  765.0         61500.0                    0.033794  63094.195413  Loyal Customers"
      ]
     },
     "execution_count": 91,
     "metadata": {},
     "output_type": "execute_result"
    }
   ],
   "source": [
    "clv_data1.sample()"
   ]
  },
  {
   "cell_type": "code",
   "execution_count": 96,
   "id": "98cc7b35-cab5-4e66-8f4b-d5db58f54e49",
   "metadata": {},
   "outputs": [
    {
     "data": {
      "text/html": [
       "<div>\n",
       "<style scoped>\n",
       "    .dataframe tbody tr th:only-of-type {\n",
       "        vertical-align: middle;\n",
       "    }\n",
       "\n",
       "    .dataframe tbody tr th {\n",
       "        vertical-align: top;\n",
       "    }\n",
       "\n",
       "    .dataframe thead th {\n",
       "        text-align: right;\n",
       "    }\n",
       "</style>\n",
       "<table border=\"1\" class=\"dataframe\">\n",
       "  <thead>\n",
       "    <tr style=\"text-align: right;\">\n",
       "      <th></th>\n",
       "      <th>CustomerID</th>\n",
       "      <th>frequency</th>\n",
       "      <th>recency</th>\n",
       "      <th>T</th>\n",
       "      <th>monetary_value</th>\n",
       "      <th>expected_deposits_3_months</th>\n",
       "      <th>3_Months_CLV</th>\n",
       "    </tr>\n",
       "    <tr>\n",
       "      <th>Segment</th>\n",
       "      <th></th>\n",
       "      <th></th>\n",
       "      <th></th>\n",
       "      <th></th>\n",
       "      <th></th>\n",
       "      <th></th>\n",
       "      <th></th>\n",
       "    </tr>\n",
       "  </thead>\n",
       "  <tbody>\n",
       "    <tr>\n",
       "      <th>Ready To Leave</th>\n",
       "      <td>4527</td>\n",
       "      <td>5.0</td>\n",
       "      <td>278.0</td>\n",
       "      <td>1087.0</td>\n",
       "      <td>95819.0</td>\n",
       "      <td>0.0</td>\n",
       "      <td>338.0</td>\n",
       "    </tr>\n",
       "    <tr>\n",
       "      <th>Hibernating</th>\n",
       "      <td>4527</td>\n",
       "      <td>5.0</td>\n",
       "      <td>527.0</td>\n",
       "      <td>864.0</td>\n",
       "      <td>65925.0</td>\n",
       "      <td>0.0</td>\n",
       "      <td>5582.0</td>\n",
       "    </tr>\n",
       "    <tr>\n",
       "      <th>Need Attention</th>\n",
       "      <td>4527</td>\n",
       "      <td>8.0</td>\n",
       "      <td>620.0</td>\n",
       "      <td>782.0</td>\n",
       "      <td>78564.0</td>\n",
       "      <td>0.0</td>\n",
       "      <td>28170.0</td>\n",
       "    </tr>\n",
       "    <tr>\n",
       "      <th>Loyal Customers</th>\n",
       "      <td>4527</td>\n",
       "      <td>13.0</td>\n",
       "      <td>693.0</td>\n",
       "      <td>782.0</td>\n",
       "      <td>153294.0</td>\n",
       "      <td>0.0</td>\n",
       "      <td>133811.0</td>\n",
       "    </tr>\n",
       "    <tr>\n",
       "      <th>Champions</th>\n",
       "      <td>4527</td>\n",
       "      <td>21.0</td>\n",
       "      <td>802.0</td>\n",
       "      <td>846.0</td>\n",
       "      <td>602107.0</td>\n",
       "      <td>0.0</td>\n",
       "      <td>1092648.0</td>\n",
       "    </tr>\n",
       "  </tbody>\n",
       "</table>\n",
       "</div>"
      ],
      "text/plain": [
       "                 CustomerID  frequency  recency       T  monetary_value  expected_deposits_3_months  3_Months_CLV\n",
       "Segment                                                                                                          \n",
       "Ready To Leave         4527        5.0    278.0  1087.0         95819.0                         0.0         338.0\n",
       "Hibernating            4527        5.0    527.0   864.0         65925.0                         0.0        5582.0\n",
       "Need Attention         4527        8.0    620.0   782.0         78564.0                         0.0       28170.0\n",
       "Loyal Customers        4527       13.0    693.0   782.0        153294.0                         0.0      133811.0\n",
       "Champions              4527       21.0    802.0   846.0        602107.0                         0.0     1092648.0"
      ]
     },
     "execution_count": 96,
     "metadata": {},
     "output_type": "execute_result"
    }
   ],
   "source": [
    "clv_data1.groupby(\"Segment\").agg({\"CustomerID\":'count', \n",
    "                                  \"frequency\":'mean',\t\n",
    "                                  \"recency\":'mean',\n",
    "                                  \"T\":'mean',\n",
    "                                  \"monetary_value\": 'mean',\n",
    "                                  \"expected_deposits_3_months\":'mean',\n",
    "                                  \"3_Months_CLV\":'mean'}).round()"
   ]
  },
  {
   "cell_type": "markdown",
   "id": "a15217e3-a6b6-425e-ad9d-41a7e05ed6fb",
   "metadata": {},
   "source": [
    "### Thank you"
   ]
  },
  {
   "cell_type": "code",
   "execution_count": 93,
   "id": "deae2ae6-aa3f-4cfa-b131-34f18a44cac1",
   "metadata": {},
   "outputs": [],
   "source": [
    "# Deposit - Withdrawals"
   ]
  },
  {
   "cell_type": "code",
   "execution_count": null,
   "id": "eb67e265-2ea2-41fb-9957-dd504d9581d3",
   "metadata": {},
   "outputs": [],
   "source": []
  },
  {
   "cell_type": "markdown",
   "id": "625c893d-d489-4037-be4d-ff89f8b593d6",
   "metadata": {},
   "source": [
    "# Tests"
   ]
  },
  {
   "cell_type": "code",
   "execution_count": 97,
   "id": "e7f0c66e-a82e-4773-bb49-528ad06931bb",
   "metadata": {},
   "outputs": [
    {
     "name": "stderr",
     "output_type": "stream",
     "text": [
      "C:\\Users\\kuksj\\AppData\\Local\\Programs\\Python\\Python313\\Lib\\site-packages\\lifetimes\\datasets\\__init__.py:6: UserWarning: pkg_resources is deprecated as an API. See https://setuptools.pypa.io/en/latest/pkg_resources.html. The pkg_resources package is slated for removal as early as 2025-11-30. Refrain from using this package or pin to Setuptools<81.\n",
      "  from pkg_resources import resource_filename\n"
     ]
    },
    {
     "data": {
      "text/plain": [
       "<Axes: title={'center': 'Expected Number of Future Purchases for 1 Unit of Time,\\nby Frequency and Recency of a Customer'}, xlabel=\"Customer's Historical Frequency\", ylabel=\"Customer's Recency\">"
      ]
     },
     "execution_count": 97,
     "metadata": {},
     "output_type": "execute_result"
    },
    {
     "data": {
      "image/png": "[encoded data removed]",
      "text/plain": [
       "<Figure size 640x480 with 2 Axes>"
      ]
     },
     "metadata": {},
     "output_type": "display_data"
    }
   ],
   "source": [
    "from lifetimes.datasets import load_cdnow_summary\n",
    "from lifetimes import BetaGeoFitter\n",
    "from lifetimes.plotting import plot_frequency_recency_matrix\n",
    "\n",
    "# Load dataset\n",
    "data = load_cdnow_summary(index_col=[0])\n",
    "\n",
    "# Fit BG/NBD model\n",
    "bgf = BetaGeoFitter(penalizer_coef=0.0)\n",
    "bgf.fit(data['frequency'], data['recency'], data['T'])\n",
    "\n",
    "# Plot frequency-recency matrix\n",
    "plot_frequency_recency_matrix(bgf)\n"
   ]
  },
  {
   "cell_type": "code",
   "execution_count": 192,
   "id": "9c505ed3-223c-4abe-990e-a7e05d2636d9",
   "metadata": {},
   "outputs": [
    {
     "data": {
      "image/png": "[encoded data removed]",
      "text/plain": [
       "<Figure size 1200x800 with 1 Axes>"
      ]
     },
     "metadata": {},
     "output_type": "display_data"
    }
   ],
   "source": [
    "import numpy as np\n",
    "import matplotlib.pyplot as plt\n",
    "from mpl_toolkits.mplot3d import Axes3D\n",
    "\n",
    "# Create grid\n",
    "freq = np.arange(0, 50)\n",
    "rec = np.linspace(0, 50, 50)\n",
    "F, R = np.meshgrid(freq, rec)\n",
    "\n",
    "# Predict expected purchases for each (f, r) pair\n",
    "Z = bgf.conditional_expected_number_of_purchases_up_to_time(1, F, R, 51)\n",
    "\n",
    "# Plot\n",
    "fig = plt.figure(figsize=(12, 8))\n",
    "ax = fig.add_subplot(111, projection='3d')\n",
    "ax.plot_surface(F, R, Z, cmap='viridis')\n",
    "\n",
    "ax.set_xlabel('Frequency')\n",
    "ax.set_ylabel('Recency')\n",
    "ax.set_zlabel('Expected Future Purchases')\n",
    "plt.title('Expected Purchases (BG/NBD)')\n",
    "plt.show()\n"
   ]
  },
  {
   "cell_type": "code",
   "execution_count": 195,
   "id": "1fa82aa9-615d-4e8a-8d5b-316073940e5d",
   "metadata": {},
   "outputs": [
    {
     "data": {
      "image/png": "[encoded data removed]",
      "text/plain": [
       "<Figure size 1000x600 with 1 Axes>"
      ]
     },
     "metadata": {},
     "output_type": "display_data"
    }
   ],
   "source": [
    "import seaborn as sns\n",
    "\n",
    "data['predicted_purchases'] = bgf.conditional_expected_number_of_purchases_up_to_time(1, data['frequency'], data['recency'], data['T'])\n",
    "\n",
    "plt.figure(figsize=(10, 6))\n",
    "sns.scatterplot(data=data, x='recency', y='frequency', hue='predicted_purchases', palette='viridis', size='predicted_purchases', sizes=(10, 200))\n",
    "plt.title('Customers by Recency & Frequency (colored by expected future purchases)')\n",
    "plt.show()"
   ]
  },
  {
   "cell_type": "code",
   "execution_count": null,
   "id": "be5764f6-be79-4313-a2c5-189b349174b8",
   "metadata": {},
   "outputs": [],
   "source": []
  },
  {
   "cell_type": "code",
   "execution_count": 197,
   "id": "32ebffcf-c357-419f-b290-f33fb19ea626",
   "metadata": {},
   "outputs": [
    {
     "data": {
      "image/png": "[encoded data removed]",
      "text/plain": [
       "<Figure size 1000x800 with 2 Axes>"
      ]
     },
     "metadata": {},
     "output_type": "display_data"
    }
   ],
   "source": [
    "plt.figure(figsize=(10, 8))\n",
    "cp = plt.contourf(F, R, Z, 20, cmap='viridis')\n",
    "plt.xlabel(\"Frequency\")\n",
    "plt.ylabel(\"Recency\")\n",
    "plt.title(\"Contour Plot of Expected Purchases\")\n",
    "plt.colorbar(cp)\n",
    "plt.show()\n"
   ]
  },
  {
   "cell_type": "code",
   "execution_count": null,
   "id": "3c5f2378-0036-48d4-a3db-5e0ba7c8f503",
   "metadata": {},
   "outputs": [],
   "source": []
  },
  {
   "cell_type": "code",
   "execution_count": null,
   "id": "c721d27d-4323-4aed-9112-e34b751b20f4",
   "metadata": {},
   "outputs": [],
   "source": []
  },
  {
   "cell_type": "code",
   "execution_count": null,
   "id": "41f06a86-f272-4314-923f-19085fadeac3",
   "metadata": {},
   "outputs": [],
   "source": []
  }
 ],
 "metadata": {
  "kernelspec": {
   "display_name": "Python 3 (ipykernel)",
   "language": "python",
   "name": "python3"
  },
  "language_info": {
   "codemirror_mode": {
    "name": "ipython",
    "version": 3
   },
   "file_extension": ".py",
   "mimetype": "text/x-python",
   "name": "python",
   "nbconvert_exporter": "python",
   "pygments_lexer": "ipython3",
   "version": "3.13.5"
  }
 },
 "nbformat": 4,
 "nbformat_minor": 5
}
